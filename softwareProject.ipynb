{
  "nbformat": 4,
  "nbformat_minor": 0,
  "metadata": {
    "colab": {
      "name": "softwareProject.ipynb",
      "provenance": [],
      "collapsed_sections": [
        "fEshQkXxwExb",
        "OiNYV9S_0IJZ",
        "AMNWhzpv0OQQ",
        "tjLSVn6FEI3X",
        "P0oHq4h9ELwf",
        "V27ysielEj-8",
        "y3388vpTI9FW",
        "OVTNkjS6go-h",
        "TjTLXdqygwuy",
        "wvl7QJs0l1y6",
        "RA5cvfHhl1y7",
        "H8j8qVrzl1y7",
        "c-gex9LYwtxL",
        "u47gizUSwtxL",
        "uR_G33bzwtxM",
        "kHqNpYAcAc9s",
        "5IMTHqgIAfal",
        "cEF-Ca89JFpb",
        "lUyHBCOYJNrK",
        "pg1SvkhJP4s_",
        "rb6z_4HrP4tA",
        "tIYGwqVeP4tB",
        "K3depWjHXit1"
      ]
    },
    "kernelspec": {
      "name": "python3",
      "display_name": "Python 3"
    },
    "language_info": {
      "name": "python"
    }
  },
  "cells": [
    {
      "cell_type": "code",
      "execution_count": 34,
      "metadata": {
        "id": "cjlHeN0UwNdf"
      },
      "outputs": [],
      "source": [
        "pip install tldextract"
      ]
    },
    {
      "cell_type": "code",
      "source": [
        "pip install eli5"
      ],
      "metadata": {
        "colab": {
          "base_uri": "https://localhost:8080/"
        },
        "id": "Kdlp9VclwPev",
        "outputId": "60357409-6ee1-4efd-89df-b1e314659503"
      },
      "execution_count": 35,
      "outputs": [
        {
          "output_type": "stream",
          "name": "stdout",
          "text": [
            "Requirement already satisfied: eli5 in /usr/local/lib/python3.7/dist-packages (0.13.0)\n",
            "Requirement already satisfied: graphviz in /usr/local/lib/python3.7/dist-packages (from eli5) (0.10.1)\n",
            "Requirement already satisfied: scikit-learn>=0.20 in /usr/local/lib/python3.7/dist-packages (from eli5) (1.0.2)\n",
            "Requirement already satisfied: attrs>17.1.0 in /usr/local/lib/python3.7/dist-packages (from eli5) (21.4.0)\n",
            "Requirement already satisfied: numpy>=1.9.0 in /usr/local/lib/python3.7/dist-packages (from eli5) (1.21.6)\n",
            "Requirement already satisfied: jinja2>=3.0.0 in /usr/local/lib/python3.7/dist-packages (from eli5) (3.1.2)\n",
            "Requirement already satisfied: six in /usr/local/lib/python3.7/dist-packages (from eli5) (1.15.0)\n",
            "Requirement already satisfied: tabulate>=0.7.7 in /usr/local/lib/python3.7/dist-packages (from eli5) (0.8.9)\n",
            "Requirement already satisfied: scipy in /usr/local/lib/python3.7/dist-packages (from eli5) (1.4.1)\n",
            "Requirement already satisfied: MarkupSafe>=2.0 in /usr/local/lib/python3.7/dist-packages (from jinja2>=3.0.0->eli5) (2.0.1)\n",
            "Requirement already satisfied: threadpoolctl>=2.0.0 in /usr/local/lib/python3.7/dist-packages (from scikit-learn>=0.20->eli5) (3.1.0)\n",
            "Requirement already satisfied: joblib>=0.11 in /usr/local/lib/python3.7/dist-packages (from scikit-learn>=0.20->eli5) (1.1.0)\n"
          ]
        }
      ]
    },
    {
      "cell_type": "code",
      "source": [
        "# Importing\n",
        "\n",
        "import numpy as np\n",
        "import pandas as pd\n",
        "import matplotlib.pyplot as plt\n",
        "from sklearn import preprocessing\n",
        "from sklearn.linear_model import LassoCV\n",
        "from collections import Counter\n",
        "from imblearn.over_sampling import SMOTE, RandomOverSampler\n",
        "from sklearn.feature_selection import SelectKBest, f_classif\n",
        "from sklearn.tree import DecisionTreeClassifier\n",
        "from sklearn.metrics import classification_report, confusion_matrix, accuracy_score\n",
        "from sklearn.model_selection import GridSearchCV, train_test_split\n",
        "from keras.models import Sequential\n",
        "from keras.layers import Dense\n",
        "from sklearn import svm\n",
        "from sklearn.ensemble import RandomForestClassifier\n",
        "from sklearn.tree import DecisionTreeClassifier\n",
        "from sklearn.neighbors import KNeighborsClassifier\n",
        "from sklearn.neural_network import MLPClassifier\n",
        "import xgboost as xgb\n",
        "from sklearn.naive_bayes import GaussianNB\n",
        "from sklearn.neighbors import KNeighborsClassifier\n",
        "from sklearn.datasets import make_classification\n",
        "import lightgbm as lgb\n",
        "from sklearn.ensemble import GradientBoostingRegressor\n",
        "from imblearn.under_sampling import RandomUnderSampler\n",
        "from keras.layers import Activation, Dense, Flatten \n",
        "from typing import *\n",
        "import random\n",
        "from sklearn.tree import DecisionTreeRegressor\n",
        "import sys\n",
        "import os\n",
        "!pip install tldextract -q\n",
        "import tldextract\n",
        "import seaborn as sns \n",
        "import warnings\n",
        "import regex as re\n",
        "import eli5\n",
        "from sklearn.preprocessing import OneHotEncoder, StandardScaler, MinMaxScaler\n",
        "from sklearn.compose import ColumnTransformer\n",
        "from sklearn.feature_extraction.text import TfidfTransformer, CountVectorizer, TfidfVectorizer\n",
        "from sklearn.preprocessing import FunctionTransformer\n",
        "from sklearn.linear_model import LogisticRegression\n",
        "from sklearn.naive_bayes import MultinomialNB\n",
        "from sklearn.ensemble import RandomForestClassifier,BaggingClassifier\n",
        "from sklearn.svm import SVC\n",
        "from sklearn.metrics import classification_report, confusion_matrix\n",
        "from sklearn.model_selection import train_test_split\n",
        "from sklearn.base import BaseEstimator, TransformerMixin\n",
        "from sklearn import svm\n",
        "from sklearn.multiclass import OneVsRestClassifier\n",
        "from sklearn.svm import LinearSVC\n",
        "from sklearn.ensemble import RandomForestRegressor\n",
        "from sklearn.ensemble import BaggingRegressor\n",
        "from sklearn.ensemble import AdaBoostRegressor\n",
        "from urllib.parse import urlparse\n",
        "from nltk.tokenize import RegexpTokenizer"
      ],
      "metadata": {
        "id": "5E4_freWwQZn"
      },
      "execution_count": 36,
      "outputs": []
    },
    {
      "cell_type": "code",
      "source": [
        "df = pd.read_csv('/content/phishing_site_urls.csv')\n",
        "df.head()\n",
        "url_data = df\n",
        "url_data"
      ],
      "metadata": {
        "colab": {
          "base_uri": "https://localhost:8080/",
          "height": 424
        },
        "id": "CT33N5r9wVXc",
        "outputId": "3e05715f-c521-49c4-bee6-a9dc3efd4ff2"
      },
      "execution_count": 37,
      "outputs": [
        {
          "output_type": "execute_result",
          "data": {
            "text/plain": [
              "                                                      URL Label\n",
              "0       nobell.it/70ffb52d079109dca5664cce6f317373782/...   bad\n",
              "1       www.dghjdgf.com/paypal.co.uk/cycgi-bin/webscrc...   bad\n",
              "2       serviciosbys.com/paypal.cgi.bin.get-into.herf....   bad\n",
              "3       mail.printakid.com/www.online.americanexpress....   bad\n",
              "4       thewhiskeydregs.com/wp-content/themes/widescre...   bad\n",
              "...                                                   ...   ...\n",
              "549341                                    23.227.196.215/   bad\n",
              "549342                                 apple-checker.org/   bad\n",
              "549343                                  apple-iclods.org/   bad\n",
              "549344                                 apple-uptoday.org/   bad\n",
              "549345                                  apple-search.info   bad\n",
              "\n",
              "[549346 rows x 2 columns]"
            ],
            "text/html": [
              "\n",
              "  <div id=\"df-7f670b8e-4fa9-49fe-8e7a-59cf54bf74d8\">\n",
              "    <div class=\"colab-df-container\">\n",
              "      <div>\n",
              "<style scoped>\n",
              "    .dataframe tbody tr th:only-of-type {\n",
              "        vertical-align: middle;\n",
              "    }\n",
              "\n",
              "    .dataframe tbody tr th {\n",
              "        vertical-align: top;\n",
              "    }\n",
              "\n",
              "    .dataframe thead th {\n",
              "        text-align: right;\n",
              "    }\n",
              "</style>\n",
              "<table border=\"1\" class=\"dataframe\">\n",
              "  <thead>\n",
              "    <tr style=\"text-align: right;\">\n",
              "      <th></th>\n",
              "      <th>URL</th>\n",
              "      <th>Label</th>\n",
              "    </tr>\n",
              "  </thead>\n",
              "  <tbody>\n",
              "    <tr>\n",
              "      <th>0</th>\n",
              "      <td>nobell.it/70ffb52d079109dca5664cce6f317373782/...</td>\n",
              "      <td>bad</td>\n",
              "    </tr>\n",
              "    <tr>\n",
              "      <th>1</th>\n",
              "      <td>www.dghjdgf.com/paypal.co.uk/cycgi-bin/webscrc...</td>\n",
              "      <td>bad</td>\n",
              "    </tr>\n",
              "    <tr>\n",
              "      <th>2</th>\n",
              "      <td>serviciosbys.com/paypal.cgi.bin.get-into.herf....</td>\n",
              "      <td>bad</td>\n",
              "    </tr>\n",
              "    <tr>\n",
              "      <th>3</th>\n",
              "      <td>mail.printakid.com/www.online.americanexpress....</td>\n",
              "      <td>bad</td>\n",
              "    </tr>\n",
              "    <tr>\n",
              "      <th>4</th>\n",
              "      <td>thewhiskeydregs.com/wp-content/themes/widescre...</td>\n",
              "      <td>bad</td>\n",
              "    </tr>\n",
              "    <tr>\n",
              "      <th>...</th>\n",
              "      <td>...</td>\n",
              "      <td>...</td>\n",
              "    </tr>\n",
              "    <tr>\n",
              "      <th>549341</th>\n",
              "      <td>23.227.196.215/</td>\n",
              "      <td>bad</td>\n",
              "    </tr>\n",
              "    <tr>\n",
              "      <th>549342</th>\n",
              "      <td>apple-checker.org/</td>\n",
              "      <td>bad</td>\n",
              "    </tr>\n",
              "    <tr>\n",
              "      <th>549343</th>\n",
              "      <td>apple-iclods.org/</td>\n",
              "      <td>bad</td>\n",
              "    </tr>\n",
              "    <tr>\n",
              "      <th>549344</th>\n",
              "      <td>apple-uptoday.org/</td>\n",
              "      <td>bad</td>\n",
              "    </tr>\n",
              "    <tr>\n",
              "      <th>549345</th>\n",
              "      <td>apple-search.info</td>\n",
              "      <td>bad</td>\n",
              "    </tr>\n",
              "  </tbody>\n",
              "</table>\n",
              "<p>549346 rows × 2 columns</p>\n",
              "</div>\n",
              "      <button class=\"colab-df-convert\" onclick=\"convertToInteractive('df-7f670b8e-4fa9-49fe-8e7a-59cf54bf74d8')\"\n",
              "              title=\"Convert this dataframe to an interactive table.\"\n",
              "              style=\"display:none;\">\n",
              "        \n",
              "  <svg xmlns=\"http://www.w3.org/2000/svg\" height=\"24px\"viewBox=\"0 0 24 24\"\n",
              "       width=\"24px\">\n",
              "    <path d=\"M0 0h24v24H0V0z\" fill=\"none\"/>\n",
              "    <path d=\"M18.56 5.44l.94 2.06.94-2.06 2.06-.94-2.06-.94-.94-2.06-.94 2.06-2.06.94zm-11 1L8.5 8.5l.94-2.06 2.06-.94-2.06-.94L8.5 2.5l-.94 2.06-2.06.94zm10 10l.94 2.06.94-2.06 2.06-.94-2.06-.94-.94-2.06-.94 2.06-2.06.94z\"/><path d=\"M17.41 7.96l-1.37-1.37c-.4-.4-.92-.59-1.43-.59-.52 0-1.04.2-1.43.59L10.3 9.45l-7.72 7.72c-.78.78-.78 2.05 0 2.83L4 21.41c.39.39.9.59 1.41.59.51 0 1.02-.2 1.41-.59l7.78-7.78 2.81-2.81c.8-.78.8-2.07 0-2.86zM5.41 20L4 18.59l7.72-7.72 1.47 1.35L5.41 20z\"/>\n",
              "  </svg>\n",
              "      </button>\n",
              "      \n",
              "  <style>\n",
              "    .colab-df-container {\n",
              "      display:flex;\n",
              "      flex-wrap:wrap;\n",
              "      gap: 12px;\n",
              "    }\n",
              "\n",
              "    .colab-df-convert {\n",
              "      background-color: #E8F0FE;\n",
              "      border: none;\n",
              "      border-radius: 50%;\n",
              "      cursor: pointer;\n",
              "      display: none;\n",
              "      fill: #1967D2;\n",
              "      height: 32px;\n",
              "      padding: 0 0 0 0;\n",
              "      width: 32px;\n",
              "    }\n",
              "\n",
              "    .colab-df-convert:hover {\n",
              "      background-color: #E2EBFA;\n",
              "      box-shadow: 0px 1px 2px rgba(60, 64, 67, 0.3), 0px 1px 3px 1px rgba(60, 64, 67, 0.15);\n",
              "      fill: #174EA6;\n",
              "    }\n",
              "\n",
              "    [theme=dark] .colab-df-convert {\n",
              "      background-color: #3B4455;\n",
              "      fill: #D2E3FC;\n",
              "    }\n",
              "\n",
              "    [theme=dark] .colab-df-convert:hover {\n",
              "      background-color: #434B5C;\n",
              "      box-shadow: 0px 1px 3px 1px rgba(0, 0, 0, 0.15);\n",
              "      filter: drop-shadow(0px 1px 2px rgba(0, 0, 0, 0.3));\n",
              "      fill: #FFFFFF;\n",
              "    }\n",
              "  </style>\n",
              "\n",
              "      <script>\n",
              "        const buttonEl =\n",
              "          document.querySelector('#df-7f670b8e-4fa9-49fe-8e7a-59cf54bf74d8 button.colab-df-convert');\n",
              "        buttonEl.style.display =\n",
              "          google.colab.kernel.accessAllowed ? 'block' : 'none';\n",
              "\n",
              "        async function convertToInteractive(key) {\n",
              "          const element = document.querySelector('#df-7f670b8e-4fa9-49fe-8e7a-59cf54bf74d8');\n",
              "          const dataTable =\n",
              "            await google.colab.kernel.invokeFunction('convertToInteractive',\n",
              "                                                     [key], {});\n",
              "          if (!dataTable) return;\n",
              "\n",
              "          const docLinkHtml = 'Like what you see? Visit the ' +\n",
              "            '<a target=\"_blank\" href=https://colab.research.google.com/notebooks/data_table.ipynb>data table notebook</a>'\n",
              "            + ' to learn more about interactive tables.';\n",
              "          element.innerHTML = '';\n",
              "          dataTable['output_type'] = 'display_data';\n",
              "          await google.colab.output.renderOutput(dataTable, element);\n",
              "          const docLink = document.createElement('div');\n",
              "          docLink.innerHTML = docLinkHtml;\n",
              "          element.appendChild(docLink);\n",
              "        }\n",
              "      </script>\n",
              "    </div>\n",
              "  </div>\n",
              "  "
            ]
          },
          "metadata": {},
          "execution_count": 37
        }
      ]
    },
    {
      "cell_type": "markdown",
      "source": [
        "# Preprocessing\n",
        "Including: \n",
        "1. Feature Extraction\n",
        "2. Random OverSampling\n",
        "3. SMOTE Oversampling\n",
        "4. Feature Selection"
      ],
      "metadata": {
        "id": "fEshQkXxwExb"
      }
    },
    {
      "cell_type": "code",
      "source": [
        "url_data = url_data.rename(columns={\"URL\": \"url\", \"Label\": \"label\"})\n",
        "url_data"
      ],
      "metadata": {
        "colab": {
          "base_uri": "https://localhost:8080/",
          "height": 424
        },
        "id": "2z2hC3h4zCHy",
        "outputId": "32fbde03-48f6-44b2-eea2-1b4b036ed907"
      },
      "execution_count": null,
      "outputs": [
        {
          "output_type": "execute_result",
          "data": {
            "text/plain": [
              "                                                      url label\n",
              "0       nobell.it/70ffb52d079109dca5664cce6f317373782/...   bad\n",
              "1       www.dghjdgf.com/paypal.co.uk/cycgi-bin/webscrc...   bad\n",
              "2       serviciosbys.com/paypal.cgi.bin.get-into.herf....   bad\n",
              "3       mail.printakid.com/www.online.americanexpress....   bad\n",
              "4       thewhiskeydregs.com/wp-content/themes/widescre...   bad\n",
              "...                                                   ...   ...\n",
              "549341                                    23.227.196.215/   bad\n",
              "549342                                 apple-checker.org/   bad\n",
              "549343                                  apple-iclods.org/   bad\n",
              "549344                                 apple-uptoday.org/   bad\n",
              "549345                                  apple-search.info   bad\n",
              "\n",
              "[549346 rows x 2 columns]"
            ],
            "text/html": [
              "\n",
              "  <div id=\"df-47bf610e-ced8-4c73-abdb-e90289af3ebd\">\n",
              "    <div class=\"colab-df-container\">\n",
              "      <div>\n",
              "<style scoped>\n",
              "    .dataframe tbody tr th:only-of-type {\n",
              "        vertical-align: middle;\n",
              "    }\n",
              "\n",
              "    .dataframe tbody tr th {\n",
              "        vertical-align: top;\n",
              "    }\n",
              "\n",
              "    .dataframe thead th {\n",
              "        text-align: right;\n",
              "    }\n",
              "</style>\n",
              "<table border=\"1\" class=\"dataframe\">\n",
              "  <thead>\n",
              "    <tr style=\"text-align: right;\">\n",
              "      <th></th>\n",
              "      <th>url</th>\n",
              "      <th>label</th>\n",
              "    </tr>\n",
              "  </thead>\n",
              "  <tbody>\n",
              "    <tr>\n",
              "      <th>0</th>\n",
              "      <td>nobell.it/70ffb52d079109dca5664cce6f317373782/...</td>\n",
              "      <td>bad</td>\n",
              "    </tr>\n",
              "    <tr>\n",
              "      <th>1</th>\n",
              "      <td>www.dghjdgf.com/paypal.co.uk/cycgi-bin/webscrc...</td>\n",
              "      <td>bad</td>\n",
              "    </tr>\n",
              "    <tr>\n",
              "      <th>2</th>\n",
              "      <td>serviciosbys.com/paypal.cgi.bin.get-into.herf....</td>\n",
              "      <td>bad</td>\n",
              "    </tr>\n",
              "    <tr>\n",
              "      <th>3</th>\n",
              "      <td>mail.printakid.com/www.online.americanexpress....</td>\n",
              "      <td>bad</td>\n",
              "    </tr>\n",
              "    <tr>\n",
              "      <th>4</th>\n",
              "      <td>thewhiskeydregs.com/wp-content/themes/widescre...</td>\n",
              "      <td>bad</td>\n",
              "    </tr>\n",
              "    <tr>\n",
              "      <th>...</th>\n",
              "      <td>...</td>\n",
              "      <td>...</td>\n",
              "    </tr>\n",
              "    <tr>\n",
              "      <th>549341</th>\n",
              "      <td>23.227.196.215/</td>\n",
              "      <td>bad</td>\n",
              "    </tr>\n",
              "    <tr>\n",
              "      <th>549342</th>\n",
              "      <td>apple-checker.org/</td>\n",
              "      <td>bad</td>\n",
              "    </tr>\n",
              "    <tr>\n",
              "      <th>549343</th>\n",
              "      <td>apple-iclods.org/</td>\n",
              "      <td>bad</td>\n",
              "    </tr>\n",
              "    <tr>\n",
              "      <th>549344</th>\n",
              "      <td>apple-uptoday.org/</td>\n",
              "      <td>bad</td>\n",
              "    </tr>\n",
              "    <tr>\n",
              "      <th>549345</th>\n",
              "      <td>apple-search.info</td>\n",
              "      <td>bad</td>\n",
              "    </tr>\n",
              "  </tbody>\n",
              "</table>\n",
              "<p>549346 rows × 2 columns</p>\n",
              "</div>\n",
              "      <button class=\"colab-df-convert\" onclick=\"convertToInteractive('df-47bf610e-ced8-4c73-abdb-e90289af3ebd')\"\n",
              "              title=\"Convert this dataframe to an interactive table.\"\n",
              "              style=\"display:none;\">\n",
              "        \n",
              "  <svg xmlns=\"http://www.w3.org/2000/svg\" height=\"24px\"viewBox=\"0 0 24 24\"\n",
              "       width=\"24px\">\n",
              "    <path d=\"M0 0h24v24H0V0z\" fill=\"none\"/>\n",
              "    <path d=\"M18.56 5.44l.94 2.06.94-2.06 2.06-.94-2.06-.94-.94-2.06-.94 2.06-2.06.94zm-11 1L8.5 8.5l.94-2.06 2.06-.94-2.06-.94L8.5 2.5l-.94 2.06-2.06.94zm10 10l.94 2.06.94-2.06 2.06-.94-2.06-.94-.94-2.06-.94 2.06-2.06.94z\"/><path d=\"M17.41 7.96l-1.37-1.37c-.4-.4-.92-.59-1.43-.59-.52 0-1.04.2-1.43.59L10.3 9.45l-7.72 7.72c-.78.78-.78 2.05 0 2.83L4 21.41c.39.39.9.59 1.41.59.51 0 1.02-.2 1.41-.59l7.78-7.78 2.81-2.81c.8-.78.8-2.07 0-2.86zM5.41 20L4 18.59l7.72-7.72 1.47 1.35L5.41 20z\"/>\n",
              "  </svg>\n",
              "      </button>\n",
              "      \n",
              "  <style>\n",
              "    .colab-df-container {\n",
              "      display:flex;\n",
              "      flex-wrap:wrap;\n",
              "      gap: 12px;\n",
              "    }\n",
              "\n",
              "    .colab-df-convert {\n",
              "      background-color: #E8F0FE;\n",
              "      border: none;\n",
              "      border-radius: 50%;\n",
              "      cursor: pointer;\n",
              "      display: none;\n",
              "      fill: #1967D2;\n",
              "      height: 32px;\n",
              "      padding: 0 0 0 0;\n",
              "      width: 32px;\n",
              "    }\n",
              "\n",
              "    .colab-df-convert:hover {\n",
              "      background-color: #E2EBFA;\n",
              "      box-shadow: 0px 1px 2px rgba(60, 64, 67, 0.3), 0px 1px 3px 1px rgba(60, 64, 67, 0.15);\n",
              "      fill: #174EA6;\n",
              "    }\n",
              "\n",
              "    [theme=dark] .colab-df-convert {\n",
              "      background-color: #3B4455;\n",
              "      fill: #D2E3FC;\n",
              "    }\n",
              "\n",
              "    [theme=dark] .colab-df-convert:hover {\n",
              "      background-color: #434B5C;\n",
              "      box-shadow: 0px 1px 3px 1px rgba(0, 0, 0, 0.15);\n",
              "      filter: drop-shadow(0px 1px 2px rgba(0, 0, 0, 0.3));\n",
              "      fill: #FFFFFF;\n",
              "    }\n",
              "  </style>\n",
              "\n",
              "      <script>\n",
              "        const buttonEl =\n",
              "          document.querySelector('#df-47bf610e-ced8-4c73-abdb-e90289af3ebd button.colab-df-convert');\n",
              "        buttonEl.style.display =\n",
              "          google.colab.kernel.accessAllowed ? 'block' : 'none';\n",
              "\n",
              "        async function convertToInteractive(key) {\n",
              "          const element = document.querySelector('#df-47bf610e-ced8-4c73-abdb-e90289af3ebd');\n",
              "          const dataTable =\n",
              "            await google.colab.kernel.invokeFunction('convertToInteractive',\n",
              "                                                     [key], {});\n",
              "          if (!dataTable) return;\n",
              "\n",
              "          const docLinkHtml = 'Like what you see? Visit the ' +\n",
              "            '<a target=\"_blank\" href=https://colab.research.google.com/notebooks/data_table.ipynb>data table notebook</a>'\n",
              "            + ' to learn more about interactive tables.';\n",
              "          element.innerHTML = '';\n",
              "          dataTable['output_type'] = 'display_data';\n",
              "          await google.colab.output.renderOutput(dataTable, element);\n",
              "          const docLink = document.createElement('div');\n",
              "          docLink.innerHTML = docLinkHtml;\n",
              "          element.appendChild(docLink);\n",
              "        }\n",
              "      </script>\n",
              "    </div>\n",
              "  </div>\n",
              "  "
            ]
          },
          "metadata": {},
          "execution_count": 5
        }
      ]
    },
    {
      "cell_type": "code",
      "source": [
        "# Checking for balance in our data\n",
        "\n",
        "counts = url_data.value_counts(url_data.label, sort=True)\n",
        "classes = url_data.label.unique()\n",
        "plt.bar(['Non-phishing','Phishing'], counts)\n",
        "\n",
        "plt.title('Visualization of Labels')\n",
        "plt.ylabel('Count')\n",
        "plt.xlabel('Class')\n",
        "plt.show()\n",
        "\n",
        "print('Number of Phishing URLs: ', len(url_data[url_data['label']== 'bad']))\n",
        "print('Number of non-phishing URLs: ', len(url_data[url_data['label']== 'good']))\n",
        "\n",
        "# This means that our classes are imbalanced as expected."
      ],
      "metadata": {
        "colab": {
          "base_uri": "https://localhost:8080/",
          "height": 330
        },
        "id": "kYRa7c1MwYQS",
        "outputId": "5a3d8a6f-4a97-4102-d928-14c5cef23351"
      },
      "execution_count": null,
      "outputs": [
        {
          "output_type": "display_data",
          "data": {
            "text/plain": [
              "<Figure size 432x288 with 1 Axes>"
            ],
            "image/png": "[encoded data removed]"
          },
          "metadata": {
            "needs_background": "light"
          }
        },
        {
          "output_type": "stream",
          "name": "stdout",
          "text": [
            "Number of Phishing URLs:  156422\n",
            "Number of non-phishing URLs:  392924\n"
          ]
        }
      ]
    },
    {
      "cell_type": "code",
      "source": [
        "url_data['label'] = url_data['label'].replace({\"good\": 0, \"bad\": 1})"
      ],
      "metadata": {
        "id": "4zDsiZfpxsJj"
      },
      "execution_count": null,
      "outputs": []
    },
    {
      "cell_type": "code",
      "source": [
        "def parse_url(url: str) -> Optional[Dict[str, str]]:\n",
        "    try:\n",
        "        no_scheme = not url.startswith('https://') and not url.startswith('http://')\n",
        "        if no_scheme:\n",
        "            parsed_url = urlparse(f\"http://{url}\")\n",
        "            return {\n",
        "                \"scheme\": None, # not established a value for this\n",
        "                \"netloc\": parsed_url.netloc,\n",
        "                \"path\": parsed_url.path,\n",
        "                \"params\": parsed_url.params,\n",
        "                \"query\": parsed_url.query,\n",
        "                \"fragment\": parsed_url.fragment,\n",
        "            }\n",
        "        else:\n",
        "            parsed_url = urlparse(url)\n",
        "            return {\n",
        "                \"scheme\": parsed_url.scheme,\n",
        "                \"netloc\": parsed_url.netloc,\n",
        "                \"path\": parsed_url.path,\n",
        "                \"params\": parsed_url.params,\n",
        "                \"query\": parsed_url.query,\n",
        "                \"fragment\": parsed_url.fragment,\n",
        "            }\n",
        "    except:\n",
        "        return None"
      ],
      "metadata": {
        "id": "19N0m35DwnZm"
      },
      "execution_count": null,
      "outputs": []
    },
    {
      "cell_type": "code",
      "source": [
        "url_data[\"parsed_url\"] = url_data.url.apply(parse_url)\n",
        "url_data"
      ],
      "metadata": {
        "colab": {
          "base_uri": "https://localhost:8080/",
          "height": 424
        },
        "id": "8JKgGkVZwsDT",
        "outputId": "2e83bfbf-c542-4552-cd5b-ca8f570814e7"
      },
      "execution_count": null,
      "outputs": [
        {
          "output_type": "execute_result",
          "data": {
            "text/plain": [
              "                                                      url  label  \\\n",
              "0       nobell.it/70ffb52d079109dca5664cce6f317373782/...      1   \n",
              "1       www.dghjdgf.com/paypal.co.uk/cycgi-bin/webscrc...      1   \n",
              "2       serviciosbys.com/paypal.cgi.bin.get-into.herf....      1   \n",
              "3       mail.printakid.com/www.online.americanexpress....      1   \n",
              "4       thewhiskeydregs.com/wp-content/themes/widescre...      1   \n",
              "...                                                   ...    ...   \n",
              "549341                                    23.227.196.215/      1   \n",
              "549342                                 apple-checker.org/      1   \n",
              "549343                                  apple-iclods.org/      1   \n",
              "549344                                 apple-uptoday.org/      1   \n",
              "549345                                  apple-search.info      1   \n",
              "\n",
              "                                               parsed_url  \n",
              "0       {'scheme': None, 'netloc': 'nobell.it', 'path'...  \n",
              "1       {'scheme': None, 'netloc': 'www.dghjdgf.com', ...  \n",
              "2       {'scheme': None, 'netloc': 'serviciosbys.com',...  \n",
              "3       {'scheme': None, 'netloc': 'mail.printakid.com...  \n",
              "4       {'scheme': None, 'netloc': 'thewhiskeydregs.co...  \n",
              "...                                                   ...  \n",
              "549341  {'scheme': None, 'netloc': '23.227.196.215', '...  \n",
              "549342  {'scheme': None, 'netloc': 'apple-checker.org'...  \n",
              "549343  {'scheme': None, 'netloc': 'apple-iclods.org',...  \n",
              "549344  {'scheme': None, 'netloc': 'apple-uptoday.org'...  \n",
              "549345  {'scheme': None, 'netloc': 'apple-search.info'...  \n",
              "\n",
              "[549346 rows x 3 columns]"
            ],
            "text/html": [
              "\n",
              "  <div id=\"df-e1d334bb-a28c-4acd-8012-edf3953ead21\">\n",
              "    <div class=\"colab-df-container\">\n",
              "      <div>\n",
              "<style scoped>\n",
              "    .dataframe tbody tr th:only-of-type {\n",
              "        vertical-align: middle;\n",
              "    }\n",
              "\n",
              "    .dataframe tbody tr th {\n",
              "        vertical-align: top;\n",
              "    }\n",
              "\n",
              "    .dataframe thead th {\n",
              "        text-align: right;\n",
              "    }\n",
              "</style>\n",
              "<table border=\"1\" class=\"dataframe\">\n",
              "  <thead>\n",
              "    <tr style=\"text-align: right;\">\n",
              "      <th></th>\n",
              "      <th>url</th>\n",
              "      <th>label</th>\n",
              "      <th>parsed_url</th>\n",
              "    </tr>\n",
              "  </thead>\n",
              "  <tbody>\n",
              "    <tr>\n",
              "      <th>0</th>\n",
              "      <td>nobell.it/70ffb52d079109dca5664cce6f317373782/...</td>\n",
              "      <td>1</td>\n",
              "      <td>{'scheme': None, 'netloc': 'nobell.it', 'path'...</td>\n",
              "    </tr>\n",
              "    <tr>\n",
              "      <th>1</th>\n",
              "      <td>www.dghjdgf.com/paypal.co.uk/cycgi-bin/webscrc...</td>\n",
              "      <td>1</td>\n",
              "      <td>{'scheme': None, 'netloc': 'www.dghjdgf.com', ...</td>\n",
              "    </tr>\n",
              "    <tr>\n",
              "      <th>2</th>\n",
              "      <td>serviciosbys.com/paypal.cgi.bin.get-into.herf....</td>\n",
              "      <td>1</td>\n",
              "      <td>{'scheme': None, 'netloc': 'serviciosbys.com',...</td>\n",
              "    </tr>\n",
              "    <tr>\n",
              "      <th>3</th>\n",
              "      <td>mail.printakid.com/www.online.americanexpress....</td>\n",
              "      <td>1</td>\n",
              "      <td>{'scheme': None, 'netloc': 'mail.printakid.com...</td>\n",
              "    </tr>\n",
              "    <tr>\n",
              "      <th>4</th>\n",
              "      <td>thewhiskeydregs.com/wp-content/themes/widescre...</td>\n",
              "      <td>1</td>\n",
              "      <td>{'scheme': None, 'netloc': 'thewhiskeydregs.co...</td>\n",
              "    </tr>\n",
              "    <tr>\n",
              "      <th>...</th>\n",
              "      <td>...</td>\n",
              "      <td>...</td>\n",
              "      <td>...</td>\n",
              "    </tr>\n",
              "    <tr>\n",
              "      <th>549341</th>\n",
              "      <td>23.227.196.215/</td>\n",
              "      <td>1</td>\n",
              "      <td>{'scheme': None, 'netloc': '23.227.196.215', '...</td>\n",
              "    </tr>\n",
              "    <tr>\n",
              "      <th>549342</th>\n",
              "      <td>apple-checker.org/</td>\n",
              "      <td>1</td>\n",
              "      <td>{'scheme': None, 'netloc': 'apple-checker.org'...</td>\n",
              "    </tr>\n",
              "    <tr>\n",
              "      <th>549343</th>\n",
              "      <td>apple-iclods.org/</td>\n",
              "      <td>1</td>\n",
              "      <td>{'scheme': None, 'netloc': 'apple-iclods.org',...</td>\n",
              "    </tr>\n",
              "    <tr>\n",
              "      <th>549344</th>\n",
              "      <td>apple-uptoday.org/</td>\n",
              "      <td>1</td>\n",
              "      <td>{'scheme': None, 'netloc': 'apple-uptoday.org'...</td>\n",
              "    </tr>\n",
              "    <tr>\n",
              "      <th>549345</th>\n",
              "      <td>apple-search.info</td>\n",
              "      <td>1</td>\n",
              "      <td>{'scheme': None, 'netloc': 'apple-search.info'...</td>\n",
              "    </tr>\n",
              "  </tbody>\n",
              "</table>\n",
              "<p>549346 rows × 3 columns</p>\n",
              "</div>\n",
              "      <button class=\"colab-df-convert\" onclick=\"convertToInteractive('df-e1d334bb-a28c-4acd-8012-edf3953ead21')\"\n",
              "              title=\"Convert this dataframe to an interactive table.\"\n",
              "              style=\"display:none;\">\n",
              "        \n",
              "  <svg xmlns=\"http://www.w3.org/2000/svg\" height=\"24px\"viewBox=\"0 0 24 24\"\n",
              "       width=\"24px\">\n",
              "    <path d=\"M0 0h24v24H0V0z\" fill=\"none\"/>\n",
              "    <path d=\"M18.56 5.44l.94 2.06.94-2.06 2.06-.94-2.06-.94-.94-2.06-.94 2.06-2.06.94zm-11 1L8.5 8.5l.94-2.06 2.06-.94-2.06-.94L8.5 2.5l-.94 2.06-2.06.94zm10 10l.94 2.06.94-2.06 2.06-.94-2.06-.94-.94-2.06-.94 2.06-2.06.94z\"/><path d=\"M17.41 7.96l-1.37-1.37c-.4-.4-.92-.59-1.43-.59-.52 0-1.04.2-1.43.59L10.3 9.45l-7.72 7.72c-.78.78-.78 2.05 0 2.83L4 21.41c.39.39.9.59 1.41.59.51 0 1.02-.2 1.41-.59l7.78-7.78 2.81-2.81c.8-.78.8-2.07 0-2.86zM5.41 20L4 18.59l7.72-7.72 1.47 1.35L5.41 20z\"/>\n",
              "  </svg>\n",
              "      </button>\n",
              "      \n",
              "  <style>\n",
              "    .colab-df-container {\n",
              "      display:flex;\n",
              "      flex-wrap:wrap;\n",
              "      gap: 12px;\n",
              "    }\n",
              "\n",
              "    .colab-df-convert {\n",
              "      background-color: #E8F0FE;\n",
              "      border: none;\n",
              "      border-radius: 50%;\n",
              "      cursor: pointer;\n",
              "      display: none;\n",
              "      fill: #1967D2;\n",
              "      height: 32px;\n",
              "      padding: 0 0 0 0;\n",
              "      width: 32px;\n",
              "    }\n",
              "\n",
              "    .colab-df-convert:hover {\n",
              "      background-color: #E2EBFA;\n",
              "      box-shadow: 0px 1px 2px rgba(60, 64, 67, 0.3), 0px 1px 3px 1px rgba(60, 64, 67, 0.15);\n",
              "      fill: #174EA6;\n",
              "    }\n",
              "\n",
              "    [theme=dark] .colab-df-convert {\n",
              "      background-color: #3B4455;\n",
              "      fill: #D2E3FC;\n",
              "    }\n",
              "\n",
              "    [theme=dark] .colab-df-convert:hover {\n",
              "      background-color: #434B5C;\n",
              "      box-shadow: 0px 1px 3px 1px rgba(0, 0, 0, 0.15);\n",
              "      filter: drop-shadow(0px 1px 2px rgba(0, 0, 0, 0.3));\n",
              "      fill: #FFFFFF;\n",
              "    }\n",
              "  </style>\n",
              "\n",
              "      <script>\n",
              "        const buttonEl =\n",
              "          document.querySelector('#df-e1d334bb-a28c-4acd-8012-edf3953ead21 button.colab-df-convert');\n",
              "        buttonEl.style.display =\n",
              "          google.colab.kernel.accessAllowed ? 'block' : 'none';\n",
              "\n",
              "        async function convertToInteractive(key) {\n",
              "          const element = document.querySelector('#df-e1d334bb-a28c-4acd-8012-edf3953ead21');\n",
              "          const dataTable =\n",
              "            await google.colab.kernel.invokeFunction('convertToInteractive',\n",
              "                                                     [key], {});\n",
              "          if (!dataTable) return;\n",
              "\n",
              "          const docLinkHtml = 'Like what you see? Visit the ' +\n",
              "            '<a target=\"_blank\" href=https://colab.research.google.com/notebooks/data_table.ipynb>data table notebook</a>'\n",
              "            + ' to learn more about interactive tables.';\n",
              "          element.innerHTML = '';\n",
              "          dataTable['output_type'] = 'display_data';\n",
              "          await google.colab.output.renderOutput(dataTable, element);\n",
              "          const docLink = document.createElement('div');\n",
              "          docLink.innerHTML = docLinkHtml;\n",
              "          element.appendChild(docLink);\n",
              "        }\n",
              "      </script>\n",
              "    </div>\n",
              "  </div>\n",
              "  "
            ]
          },
          "metadata": {},
          "execution_count": 9
        }
      ]
    },
    {
      "cell_type": "code",
      "source": [
        "url_data = pd.concat([\n",
        "    url_data.drop(['parsed_url'], axis=1),\n",
        "    url_data['parsed_url'].apply(pd.Series)\n",
        "], axis=1)\n",
        "url_data"
      ],
      "metadata": {
        "colab": {
          "base_uri": "https://localhost:8080/",
          "height": 522
        },
        "id": "LMpZg_KcysyU",
        "outputId": "e216e7b7-03ce-48db-a886-2c2471d831d9"
      },
      "execution_count": null,
      "outputs": [
        {
          "output_type": "execute_result",
          "data": {
            "text/plain": [
              "                                                      url  label scheme  \\\n",
              "0       nobell.it/70ffb52d079109dca5664cce6f317373782/...      1   None   \n",
              "1       www.dghjdgf.com/paypal.co.uk/cycgi-bin/webscrc...      1   None   \n",
              "2       serviciosbys.com/paypal.cgi.bin.get-into.herf....      1   None   \n",
              "3       mail.printakid.com/www.online.americanexpress....      1   None   \n",
              "4       thewhiskeydregs.com/wp-content/themes/widescre...      1   None   \n",
              "...                                                   ...    ...    ...   \n",
              "549341                                    23.227.196.215/      1   None   \n",
              "549342                                 apple-checker.org/      1   None   \n",
              "549343                                  apple-iclods.org/      1   None   \n",
              "549344                                 apple-uptoday.org/      1   None   \n",
              "549345                                  apple-search.info      1   None   \n",
              "\n",
              "                     netloc  \\\n",
              "0                 nobell.it   \n",
              "1           www.dghjdgf.com   \n",
              "2          serviciosbys.com   \n",
              "3        mail.printakid.com   \n",
              "4       thewhiskeydregs.com   \n",
              "...                     ...   \n",
              "549341       23.227.196.215   \n",
              "549342    apple-checker.org   \n",
              "549343     apple-iclods.org   \n",
              "549344    apple-uptoday.org   \n",
              "549345    apple-search.info   \n",
              "\n",
              "                                                     path params  \\\n",
              "0       /70ffb52d079109dca5664cce6f317373782/login.Sky...          \n",
              "1       /paypal.co.uk/cycgi-bin/webscrcmd=_home-custom...          \n",
              "2       /paypal.cgi.bin.get-into.herf.secure.dispatch3...          \n",
              "3              /www.online.americanexpress.com/index.html          \n",
              "4       /wp-content/themes/widescreen/includes/temp/pr...          \n",
              "...                                                   ...    ...   \n",
              "549341                                                  /          \n",
              "549342                                                  /          \n",
              "549343                                                  /          \n",
              "549344                                                  /          \n",
              "549345                                                             \n",
              "\n",
              "                                                    query fragment  \n",
              "0       cmd=_profile-ach&outdated_page_tmpl=p/gen/fail...           \n",
              "1                                                                   \n",
              "2                                                                   \n",
              "3                                                                   \n",
              "4                    84784787824HDJNDJDSJSHD//2724782784/           \n",
              "...                                                   ...      ...  \n",
              "549341                                                              \n",
              "549342                                                              \n",
              "549343                                                              \n",
              "549344                                                              \n",
              "549345                                                              \n",
              "\n",
              "[549346 rows x 8 columns]"
            ],
            "text/html": [
              "\n",
              "  <div id=\"df-cae511d9-94b2-427b-9f87-ea4b9c5c3a92\">\n",
              "    <div class=\"colab-df-container\">\n",
              "      <div>\n",
              "<style scoped>\n",
              "    .dataframe tbody tr th:only-of-type {\n",
              "        vertical-align: middle;\n",
              "    }\n",
              "\n",
              "    .dataframe tbody tr th {\n",
              "        vertical-align: top;\n",
              "    }\n",
              "\n",
              "    .dataframe thead th {\n",
              "        text-align: right;\n",
              "    }\n",
              "</style>\n",
              "<table border=\"1\" class=\"dataframe\">\n",
              "  <thead>\n",
              "    <tr style=\"text-align: right;\">\n",
              "      <th></th>\n",
              "      <th>url</th>\n",
              "      <th>label</th>\n",
              "      <th>scheme</th>\n",
              "      <th>netloc</th>\n",
              "      <th>path</th>\n",
              "      <th>params</th>\n",
              "      <th>query</th>\n",
              "      <th>fragment</th>\n",
              "    </tr>\n",
              "  </thead>\n",
              "  <tbody>\n",
              "    <tr>\n",
              "      <th>0</th>\n",
              "      <td>nobell.it/70ffb52d079109dca5664cce6f317373782/...</td>\n",
              "      <td>1</td>\n",
              "      <td>None</td>\n",
              "      <td>nobell.it</td>\n",
              "      <td>/70ffb52d079109dca5664cce6f317373782/login.Sky...</td>\n",
              "      <td></td>\n",
              "      <td>cmd=_profile-ach&amp;outdated_page_tmpl=p/gen/fail...</td>\n",
              "      <td></td>\n",
              "    </tr>\n",
              "    <tr>\n",
              "      <th>1</th>\n",
              "      <td>www.dghjdgf.com/paypal.co.uk/cycgi-bin/webscrc...</td>\n",
              "      <td>1</td>\n",
              "      <td>None</td>\n",
              "      <td>www.dghjdgf.com</td>\n",
              "      <td>/paypal.co.uk/cycgi-bin/webscrcmd=_home-custom...</td>\n",
              "      <td></td>\n",
              "      <td></td>\n",
              "      <td></td>\n",
              "    </tr>\n",
              "    <tr>\n",
              "      <th>2</th>\n",
              "      <td>serviciosbys.com/paypal.cgi.bin.get-into.herf....</td>\n",
              "      <td>1</td>\n",
              "      <td>None</td>\n",
              "      <td>serviciosbys.com</td>\n",
              "      <td>/paypal.cgi.bin.get-into.herf.secure.dispatch3...</td>\n",
              "      <td></td>\n",
              "      <td></td>\n",
              "      <td></td>\n",
              "    </tr>\n",
              "    <tr>\n",
              "      <th>3</th>\n",
              "      <td>mail.printakid.com/www.online.americanexpress....</td>\n",
              "      <td>1</td>\n",
              "      <td>None</td>\n",
              "      <td>mail.printakid.com</td>\n",
              "      <td>/www.online.americanexpress.com/index.html</td>\n",
              "      <td></td>\n",
              "      <td></td>\n",
              "      <td></td>\n",
              "    </tr>\n",
              "    <tr>\n",
              "      <th>4</th>\n",
              "      <td>thewhiskeydregs.com/wp-content/themes/widescre...</td>\n",
              "      <td>1</td>\n",
              "      <td>None</td>\n",
              "      <td>thewhiskeydregs.com</td>\n",
              "      <td>/wp-content/themes/widescreen/includes/temp/pr...</td>\n",
              "      <td></td>\n",
              "      <td>84784787824HDJNDJDSJSHD//2724782784/</td>\n",
              "      <td></td>\n",
              "    </tr>\n",
              "    <tr>\n",
              "      <th>...</th>\n",
              "      <td>...</td>\n",
              "      <td>...</td>\n",
              "      <td>...</td>\n",
              "      <td>...</td>\n",
              "      <td>...</td>\n",
              "      <td>...</td>\n",
              "      <td>...</td>\n",
              "      <td>...</td>\n",
              "    </tr>\n",
              "    <tr>\n",
              "      <th>549341</th>\n",
              "      <td>23.227.196.215/</td>\n",
              "      <td>1</td>\n",
              "      <td>None</td>\n",
              "      <td>23.227.196.215</td>\n",
              "      <td>/</td>\n",
              "      <td></td>\n",
              "      <td></td>\n",
              "      <td></td>\n",
              "    </tr>\n",
              "    <tr>\n",
              "      <th>549342</th>\n",
              "      <td>apple-checker.org/</td>\n",
              "      <td>1</td>\n",
              "      <td>None</td>\n",
              "      <td>apple-checker.org</td>\n",
              "      <td>/</td>\n",
              "      <td></td>\n",
              "      <td></td>\n",
              "      <td></td>\n",
              "    </tr>\n",
              "    <tr>\n",
              "      <th>549343</th>\n",
              "      <td>apple-iclods.org/</td>\n",
              "      <td>1</td>\n",
              "      <td>None</td>\n",
              "      <td>apple-iclods.org</td>\n",
              "      <td>/</td>\n",
              "      <td></td>\n",
              "      <td></td>\n",
              "      <td></td>\n",
              "    </tr>\n",
              "    <tr>\n",
              "      <th>549344</th>\n",
              "      <td>apple-uptoday.org/</td>\n",
              "      <td>1</td>\n",
              "      <td>None</td>\n",
              "      <td>apple-uptoday.org</td>\n",
              "      <td>/</td>\n",
              "      <td></td>\n",
              "      <td></td>\n",
              "      <td></td>\n",
              "    </tr>\n",
              "    <tr>\n",
              "      <th>549345</th>\n",
              "      <td>apple-search.info</td>\n",
              "      <td>1</td>\n",
              "      <td>None</td>\n",
              "      <td>apple-search.info</td>\n",
              "      <td></td>\n",
              "      <td></td>\n",
              "      <td></td>\n",
              "      <td></td>\n",
              "    </tr>\n",
              "  </tbody>\n",
              "</table>\n",
              "<p>549346 rows × 8 columns</p>\n",
              "</div>\n",
              "      <button class=\"colab-df-convert\" onclick=\"convertToInteractive('df-cae511d9-94b2-427b-9f87-ea4b9c5c3a92')\"\n",
              "              title=\"Convert this dataframe to an interactive table.\"\n",
              "              style=\"display:none;\">\n",
              "        \n",
              "  <svg xmlns=\"http://www.w3.org/2000/svg\" height=\"24px\"viewBox=\"0 0 24 24\"\n",
              "       width=\"24px\">\n",
              "    <path d=\"M0 0h24v24H0V0z\" fill=\"none\"/>\n",
              "    <path d=\"M18.56 5.44l.94 2.06.94-2.06 2.06-.94-2.06-.94-.94-2.06-.94 2.06-2.06.94zm-11 1L8.5 8.5l.94-2.06 2.06-.94-2.06-.94L8.5 2.5l-.94 2.06-2.06.94zm10 10l.94 2.06.94-2.06 2.06-.94-2.06-.94-.94-2.06-.94 2.06-2.06.94z\"/><path d=\"M17.41 7.96l-1.37-1.37c-.4-.4-.92-.59-1.43-.59-.52 0-1.04.2-1.43.59L10.3 9.45l-7.72 7.72c-.78.78-.78 2.05 0 2.83L4 21.41c.39.39.9.59 1.41.59.51 0 1.02-.2 1.41-.59l7.78-7.78 2.81-2.81c.8-.78.8-2.07 0-2.86zM5.41 20L4 18.59l7.72-7.72 1.47 1.35L5.41 20z\"/>\n",
              "  </svg>\n",
              "      </button>\n",
              "      \n",
              "  <style>\n",
              "    .colab-df-container {\n",
              "      display:flex;\n",
              "      flex-wrap:wrap;\n",
              "      gap: 12px;\n",
              "    }\n",
              "\n",
              "    .colab-df-convert {\n",
              "      background-color: #E8F0FE;\n",
              "      border: none;\n",
              "      border-radius: 50%;\n",
              "      cursor: pointer;\n",
              "      display: none;\n",
              "      fill: #1967D2;\n",
              "      height: 32px;\n",
              "      padding: 0 0 0 0;\n",
              "      width: 32px;\n",
              "    }\n",
              "\n",
              "    .colab-df-convert:hover {\n",
              "      background-color: #E2EBFA;\n",
              "      box-shadow: 0px 1px 2px rgba(60, 64, 67, 0.3), 0px 1px 3px 1px rgba(60, 64, 67, 0.15);\n",
              "      fill: #174EA6;\n",
              "    }\n",
              "\n",
              "    [theme=dark] .colab-df-convert {\n",
              "      background-color: #3B4455;\n",
              "      fill: #D2E3FC;\n",
              "    }\n",
              "\n",
              "    [theme=dark] .colab-df-convert:hover {\n",
              "      background-color: #434B5C;\n",
              "      box-shadow: 0px 1px 3px 1px rgba(0, 0, 0, 0.15);\n",
              "      filter: drop-shadow(0px 1px 2px rgba(0, 0, 0, 0.3));\n",
              "      fill: #FFFFFF;\n",
              "    }\n",
              "  </style>\n",
              "\n",
              "      <script>\n",
              "        const buttonEl =\n",
              "          document.querySelector('#df-cae511d9-94b2-427b-9f87-ea4b9c5c3a92 button.colab-df-convert');\n",
              "        buttonEl.style.display =\n",
              "          google.colab.kernel.accessAllowed ? 'block' : 'none';\n",
              "\n",
              "        async function convertToInteractive(key) {\n",
              "          const element = document.querySelector('#df-cae511d9-94b2-427b-9f87-ea4b9c5c3a92');\n",
              "          const dataTable =\n",
              "            await google.colab.kernel.invokeFunction('convertToInteractive',\n",
              "                                                     [key], {});\n",
              "          if (!dataTable) return;\n",
              "\n",
              "          const docLinkHtml = 'Like what you see? Visit the ' +\n",
              "            '<a target=\"_blank\" href=https://colab.research.google.com/notebooks/data_table.ipynb>data table notebook</a>'\n",
              "            + ' to learn more about interactive tables.';\n",
              "          element.innerHTML = '';\n",
              "          dataTable['output_type'] = 'display_data';\n",
              "          await google.colab.output.renderOutput(dataTable, element);\n",
              "          const docLink = document.createElement('div');\n",
              "          docLink.innerHTML = docLinkHtml;\n",
              "          element.appendChild(docLink);\n",
              "        }\n",
              "      </script>\n",
              "    </div>\n",
              "  </div>\n",
              "  "
            ]
          },
          "metadata": {},
          "execution_count": 10
        }
      ]
    },
    {
      "cell_type": "code",
      "source": [
        "url_data = url_data[~url_data.netloc.isnull()]\n",
        "url_data"
      ],
      "metadata": {
        "colab": {
          "base_uri": "https://localhost:8080/",
          "height": 522
        },
        "id": "kDrHsS_ewx7J",
        "outputId": "14ec5d7e-1ed3-4a66-8ebe-d0507bedeb08"
      },
      "execution_count": null,
      "outputs": [
        {
          "output_type": "execute_result",
          "data": {
            "text/plain": [
              "                                                      url  label scheme  \\\n",
              "0       nobell.it/70ffb52d079109dca5664cce6f317373782/...      1   None   \n",
              "1       www.dghjdgf.com/paypal.co.uk/cycgi-bin/webscrc...      1   None   \n",
              "2       serviciosbys.com/paypal.cgi.bin.get-into.herf....      1   None   \n",
              "3       mail.printakid.com/www.online.americanexpress....      1   None   \n",
              "4       thewhiskeydregs.com/wp-content/themes/widescre...      1   None   \n",
              "...                                                   ...    ...    ...   \n",
              "549341                                    23.227.196.215/      1   None   \n",
              "549342                                 apple-checker.org/      1   None   \n",
              "549343                                  apple-iclods.org/      1   None   \n",
              "549344                                 apple-uptoday.org/      1   None   \n",
              "549345                                  apple-search.info      1   None   \n",
              "\n",
              "                     netloc  \\\n",
              "0                 nobell.it   \n",
              "1           www.dghjdgf.com   \n",
              "2          serviciosbys.com   \n",
              "3        mail.printakid.com   \n",
              "4       thewhiskeydregs.com   \n",
              "...                     ...   \n",
              "549341       23.227.196.215   \n",
              "549342    apple-checker.org   \n",
              "549343     apple-iclods.org   \n",
              "549344    apple-uptoday.org   \n",
              "549345    apple-search.info   \n",
              "\n",
              "                                                     path params  \\\n",
              "0       /70ffb52d079109dca5664cce6f317373782/login.Sky...          \n",
              "1       /paypal.co.uk/cycgi-bin/webscrcmd=_home-custom...          \n",
              "2       /paypal.cgi.bin.get-into.herf.secure.dispatch3...          \n",
              "3              /www.online.americanexpress.com/index.html          \n",
              "4       /wp-content/themes/widescreen/includes/temp/pr...          \n",
              "...                                                   ...    ...   \n",
              "549341                                                  /          \n",
              "549342                                                  /          \n",
              "549343                                                  /          \n",
              "549344                                                  /          \n",
              "549345                                                             \n",
              "\n",
              "                                                    query fragment  \n",
              "0       cmd=_profile-ach&outdated_page_tmpl=p/gen/fail...           \n",
              "1                                                                   \n",
              "2                                                                   \n",
              "3                                                                   \n",
              "4                    84784787824HDJNDJDSJSHD//2724782784/           \n",
              "...                                                   ...      ...  \n",
              "549341                                                              \n",
              "549342                                                              \n",
              "549343                                                              \n",
              "549344                                                              \n",
              "549345                                                              \n",
              "\n",
              "[549333 rows x 8 columns]"
            ],
            "text/html": [
              "\n",
              "  <div id=\"df-28ab999c-c864-4927-abcd-eec211cd0eec\">\n",
              "    <div class=\"colab-df-container\">\n",
              "      <div>\n",
              "<style scoped>\n",
              "    .dataframe tbody tr th:only-of-type {\n",
              "        vertical-align: middle;\n",
              "    }\n",
              "\n",
              "    .dataframe tbody tr th {\n",
              "        vertical-align: top;\n",
              "    }\n",
              "\n",
              "    .dataframe thead th {\n",
              "        text-align: right;\n",
              "    }\n",
              "</style>\n",
              "<table border=\"1\" class=\"dataframe\">\n",
              "  <thead>\n",
              "    <tr style=\"text-align: right;\">\n",
              "      <th></th>\n",
              "      <th>url</th>\n",
              "      <th>label</th>\n",
              "      <th>scheme</th>\n",
              "      <th>netloc</th>\n",
              "      <th>path</th>\n",
              "      <th>params</th>\n",
              "      <th>query</th>\n",
              "      <th>fragment</th>\n",
              "    </tr>\n",
              "  </thead>\n",
              "  <tbody>\n",
              "    <tr>\n",
              "      <th>0</th>\n",
              "      <td>nobell.it/70ffb52d079109dca5664cce6f317373782/...</td>\n",
              "      <td>1</td>\n",
              "      <td>None</td>\n",
              "      <td>nobell.it</td>\n",
              "      <td>/70ffb52d079109dca5664cce6f317373782/login.Sky...</td>\n",
              "      <td></td>\n",
              "      <td>cmd=_profile-ach&amp;outdated_page_tmpl=p/gen/fail...</td>\n",
              "      <td></td>\n",
              "    </tr>\n",
              "    <tr>\n",
              "      <th>1</th>\n",
              "      <td>www.dghjdgf.com/paypal.co.uk/cycgi-bin/webscrc...</td>\n",
              "      <td>1</td>\n",
              "      <td>None</td>\n",
              "      <td>www.dghjdgf.com</td>\n",
              "      <td>/paypal.co.uk/cycgi-bin/webscrcmd=_home-custom...</td>\n",
              "      <td></td>\n",
              "      <td></td>\n",
              "      <td></td>\n",
              "    </tr>\n",
              "    <tr>\n",
              "      <th>2</th>\n",
              "      <td>serviciosbys.com/paypal.cgi.bin.get-into.herf....</td>\n",
              "      <td>1</td>\n",
              "      <td>None</td>\n",
              "      <td>serviciosbys.com</td>\n",
              "      <td>/paypal.cgi.bin.get-into.herf.secure.dispatch3...</td>\n",
              "      <td></td>\n",
              "      <td></td>\n",
              "      <td></td>\n",
              "    </tr>\n",
              "    <tr>\n",
              "      <th>3</th>\n",
              "      <td>mail.printakid.com/www.online.americanexpress....</td>\n",
              "      <td>1</td>\n",
              "      <td>None</td>\n",
              "      <td>mail.printakid.com</td>\n",
              "      <td>/www.online.americanexpress.com/index.html</td>\n",
              "      <td></td>\n",
              "      <td></td>\n",
              "      <td></td>\n",
              "    </tr>\n",
              "    <tr>\n",
              "      <th>4</th>\n",
              "      <td>thewhiskeydregs.com/wp-content/themes/widescre...</td>\n",
              "      <td>1</td>\n",
              "      <td>None</td>\n",
              "      <td>thewhiskeydregs.com</td>\n",
              "      <td>/wp-content/themes/widescreen/includes/temp/pr...</td>\n",
              "      <td></td>\n",
              "      <td>84784787824HDJNDJDSJSHD//2724782784/</td>\n",
              "      <td></td>\n",
              "    </tr>\n",
              "    <tr>\n",
              "      <th>...</th>\n",
              "      <td>...</td>\n",
              "      <td>...</td>\n",
              "      <td>...</td>\n",
              "      <td>...</td>\n",
              "      <td>...</td>\n",
              "      <td>...</td>\n",
              "      <td>...</td>\n",
              "      <td>...</td>\n",
              "    </tr>\n",
              "    <tr>\n",
              "      <th>549341</th>\n",
              "      <td>23.227.196.215/</td>\n",
              "      <td>1</td>\n",
              "      <td>None</td>\n",
              "      <td>23.227.196.215</td>\n",
              "      <td>/</td>\n",
              "      <td></td>\n",
              "      <td></td>\n",
              "      <td></td>\n",
              "    </tr>\n",
              "    <tr>\n",
              "      <th>549342</th>\n",
              "      <td>apple-checker.org/</td>\n",
              "      <td>1</td>\n",
              "      <td>None</td>\n",
              "      <td>apple-checker.org</td>\n",
              "      <td>/</td>\n",
              "      <td></td>\n",
              "      <td></td>\n",
              "      <td></td>\n",
              "    </tr>\n",
              "    <tr>\n",
              "      <th>549343</th>\n",
              "      <td>apple-iclods.org/</td>\n",
              "      <td>1</td>\n",
              "      <td>None</td>\n",
              "      <td>apple-iclods.org</td>\n",
              "      <td>/</td>\n",
              "      <td></td>\n",
              "      <td></td>\n",
              "      <td></td>\n",
              "    </tr>\n",
              "    <tr>\n",
              "      <th>549344</th>\n",
              "      <td>apple-uptoday.org/</td>\n",
              "      <td>1</td>\n",
              "      <td>None</td>\n",
              "      <td>apple-uptoday.org</td>\n",
              "      <td>/</td>\n",
              "      <td></td>\n",
              "      <td></td>\n",
              "      <td></td>\n",
              "    </tr>\n",
              "    <tr>\n",
              "      <th>549345</th>\n",
              "      <td>apple-search.info</td>\n",
              "      <td>1</td>\n",
              "      <td>None</td>\n",
              "      <td>apple-search.info</td>\n",
              "      <td></td>\n",
              "      <td></td>\n",
              "      <td></td>\n",
              "      <td></td>\n",
              "    </tr>\n",
              "  </tbody>\n",
              "</table>\n",
              "<p>549333 rows × 8 columns</p>\n",
              "</div>\n",
              "      <button class=\"colab-df-convert\" onclick=\"convertToInteractive('df-28ab999c-c864-4927-abcd-eec211cd0eec')\"\n",
              "              title=\"Convert this dataframe to an interactive table.\"\n",
              "              style=\"display:none;\">\n",
              "        \n",
              "  <svg xmlns=\"http://www.w3.org/2000/svg\" height=\"24px\"viewBox=\"0 0 24 24\"\n",
              "       width=\"24px\">\n",
              "    <path d=\"M0 0h24v24H0V0z\" fill=\"none\"/>\n",
              "    <path d=\"M18.56 5.44l.94 2.06.94-2.06 2.06-.94-2.06-.94-.94-2.06-.94 2.06-2.06.94zm-11 1L8.5 8.5l.94-2.06 2.06-.94-2.06-.94L8.5 2.5l-.94 2.06-2.06.94zm10 10l.94 2.06.94-2.06 2.06-.94-2.06-.94-.94-2.06-.94 2.06-2.06.94z\"/><path d=\"M17.41 7.96l-1.37-1.37c-.4-.4-.92-.59-1.43-.59-.52 0-1.04.2-1.43.59L10.3 9.45l-7.72 7.72c-.78.78-.78 2.05 0 2.83L4 21.41c.39.39.9.59 1.41.59.51 0 1.02-.2 1.41-.59l7.78-7.78 2.81-2.81c.8-.78.8-2.07 0-2.86zM5.41 20L4 18.59l7.72-7.72 1.47 1.35L5.41 20z\"/>\n",
              "  </svg>\n",
              "      </button>\n",
              "      \n",
              "  <style>\n",
              "    .colab-df-container {\n",
              "      display:flex;\n",
              "      flex-wrap:wrap;\n",
              "      gap: 12px;\n",
              "    }\n",
              "\n",
              "    .colab-df-convert {\n",
              "      background-color: #E8F0FE;\n",
              "      border: none;\n",
              "      border-radius: 50%;\n",
              "      cursor: pointer;\n",
              "      display: none;\n",
              "      fill: #1967D2;\n",
              "      height: 32px;\n",
              "      padding: 0 0 0 0;\n",
              "      width: 32px;\n",
              "    }\n",
              "\n",
              "    .colab-df-convert:hover {\n",
              "      background-color: #E2EBFA;\n",
              "      box-shadow: 0px 1px 2px rgba(60, 64, 67, 0.3), 0px 1px 3px 1px rgba(60, 64, 67, 0.15);\n",
              "      fill: #174EA6;\n",
              "    }\n",
              "\n",
              "    [theme=dark] .colab-df-convert {\n",
              "      background-color: #3B4455;\n",
              "      fill: #D2E3FC;\n",
              "    }\n",
              "\n",
              "    [theme=dark] .colab-df-convert:hover {\n",
              "      background-color: #434B5C;\n",
              "      box-shadow: 0px 1px 3px 1px rgba(0, 0, 0, 0.15);\n",
              "      filter: drop-shadow(0px 1px 2px rgba(0, 0, 0, 0.3));\n",
              "      fill: #FFFFFF;\n",
              "    }\n",
              "  </style>\n",
              "\n",
              "      <script>\n",
              "        const buttonEl =\n",
              "          document.querySelector('#df-28ab999c-c864-4927-abcd-eec211cd0eec button.colab-df-convert');\n",
              "        buttonEl.style.display =\n",
              "          google.colab.kernel.accessAllowed ? 'block' : 'none';\n",
              "\n",
              "        async function convertToInteractive(key) {\n",
              "          const element = document.querySelector('#df-28ab999c-c864-4927-abcd-eec211cd0eec');\n",
              "          const dataTable =\n",
              "            await google.colab.kernel.invokeFunction('convertToInteractive',\n",
              "                                                     [key], {});\n",
              "          if (!dataTable) return;\n",
              "\n",
              "          const docLinkHtml = 'Like what you see? Visit the ' +\n",
              "            '<a target=\"_blank\" href=https://colab.research.google.com/notebooks/data_table.ipynb>data table notebook</a>'\n",
              "            + ' to learn more about interactive tables.';\n",
              "          element.innerHTML = '';\n",
              "          dataTable['output_type'] = 'display_data';\n",
              "          await google.colab.output.renderOutput(dataTable, element);\n",
              "          const docLink = document.createElement('div');\n",
              "          docLink.innerHTML = docLinkHtml;\n",
              "          element.appendChild(docLink);\n",
              "        }\n",
              "      </script>\n",
              "    </div>\n",
              "  </div>\n",
              "  "
            ]
          },
          "metadata": {},
          "execution_count": 11
        }
      ]
    },
    {
      "cell_type": "code",
      "source": [
        "url_data[\"length\"] = url_data.url.str.len()"
      ],
      "metadata": {
        "colab": {
          "base_uri": "https://localhost:8080/"
        },
        "id": "iZr3gBp8w402",
        "outputId": "3a8891f7-f09d-4fb3-ac69-da6a2c586fbb"
      },
      "execution_count": null,
      "outputs": [
        {
          "output_type": "stream",
          "name": "stderr",
          "text": [
            "/usr/local/lib/python3.7/dist-packages/ipykernel_launcher.py:1: SettingWithCopyWarning: \n",
            "A value is trying to be set on a copy of a slice from a DataFrame.\n",
            "Try using .loc[row_indexer,col_indexer] = value instead\n",
            "\n",
            "See the caveats in the documentation: https://pandas.pydata.org/pandas-docs/stable/user_guide/indexing.html#returning-a-view-versus-a-copy\n",
            "  \"\"\"Entry point for launching an IPython kernel.\n"
          ]
        }
      ]
    },
    {
      "cell_type": "code",
      "source": [
        "url_data[\"tld\"] = url_data.netloc.apply(lambda nl: tldextract.extract(nl).suffix)\n",
        "url_data['tld'] = url_data['tld'].replace('','None')"
      ],
      "metadata": {
        "colab": {
          "base_uri": "https://localhost:8080/"
        },
        "id": "2Md8o4hYw6VR",
        "outputId": "b1418e8e-4be1-48ca-c197-81dd6acb7de5"
      },
      "execution_count": null,
      "outputs": [
        {
          "output_type": "stream",
          "name": "stderr",
          "text": [
            "/usr/local/lib/python3.7/dist-packages/ipykernel_launcher.py:1: SettingWithCopyWarning: \n",
            "A value is trying to be set on a copy of a slice from a DataFrame.\n",
            "Try using .loc[row_indexer,col_indexer] = value instead\n",
            "\n",
            "See the caveats in the documentation: https://pandas.pydata.org/pandas-docs/stable/user_guide/indexing.html#returning-a-view-versus-a-copy\n",
            "  \"\"\"Entry point for launching an IPython kernel.\n",
            "/usr/local/lib/python3.7/dist-packages/ipykernel_launcher.py:2: SettingWithCopyWarning: \n",
            "A value is trying to be set on a copy of a slice from a DataFrame.\n",
            "Try using .loc[row_indexer,col_indexer] = value instead\n",
            "\n",
            "See the caveats in the documentation: https://pandas.pydata.org/pandas-docs/stable/user_guide/indexing.html#returning-a-view-versus-a-copy\n",
            "  \n"
          ]
        }
      ]
    },
    {
      "cell_type": "code",
      "source": [
        "url_data[\"is_ip\"] = url_data.netloc.str.fullmatch(r\"\\d+\\.\\d+\\.\\d+\\.\\d+\")"
      ],
      "metadata": {
        "colab": {
          "base_uri": "https://localhost:8080/"
        },
        "id": "FMEImWrpw8Mn",
        "outputId": "2fb12942-231b-490f-f975-41db840dea10"
      },
      "execution_count": null,
      "outputs": [
        {
          "output_type": "stream",
          "name": "stderr",
          "text": [
            "/usr/local/lib/python3.7/dist-packages/ipykernel_launcher.py:1: SettingWithCopyWarning: \n",
            "A value is trying to be set on a copy of a slice from a DataFrame.\n",
            "Try using .loc[row_indexer,col_indexer] = value instead\n",
            "\n",
            "See the caveats in the documentation: https://pandas.pydata.org/pandas-docs/stable/user_guide/indexing.html#returning-a-view-versus-a-copy\n",
            "  \"\"\"Entry point for launching an IPython kernel.\n"
          ]
        }
      ]
    },
    {
      "cell_type": "code",
      "source": [
        "url_data['domain_hyphens'] = url_data.netloc.str.count('-')\n",
        "url_data['domain_underscores'] = url_data.netloc.str.count('_')\n",
        "url_data['path_hyphens'] = url_data.path.str.count('-')\n",
        "url_data['path_underscores'] = url_data.path.str.count('_')\n",
        "url_data['slashes'] = url_data.path.str.count('/')"
      ],
      "metadata": {
        "colab": {
          "base_uri": "https://localhost:8080/"
        },
        "id": "TzGg-BxjzhlO",
        "outputId": "d0a889b8-b70b-4b92-f0e0-898f2b51fa62"
      },
      "execution_count": null,
      "outputs": [
        {
          "output_type": "stream",
          "name": "stderr",
          "text": [
            "/usr/local/lib/python3.7/dist-packages/ipykernel_launcher.py:1: SettingWithCopyWarning: \n",
            "A value is trying to be set on a copy of a slice from a DataFrame.\n",
            "Try using .loc[row_indexer,col_indexer] = value instead\n",
            "\n",
            "See the caveats in the documentation: https://pandas.pydata.org/pandas-docs/stable/user_guide/indexing.html#returning-a-view-versus-a-copy\n",
            "  \"\"\"Entry point for launching an IPython kernel.\n",
            "/usr/local/lib/python3.7/dist-packages/ipykernel_launcher.py:2: SettingWithCopyWarning: \n",
            "A value is trying to be set on a copy of a slice from a DataFrame.\n",
            "Try using .loc[row_indexer,col_indexer] = value instead\n",
            "\n",
            "See the caveats in the documentation: https://pandas.pydata.org/pandas-docs/stable/user_guide/indexing.html#returning-a-view-versus-a-copy\n",
            "  \n",
            "/usr/local/lib/python3.7/dist-packages/ipykernel_launcher.py:3: SettingWithCopyWarning: \n",
            "A value is trying to be set on a copy of a slice from a DataFrame.\n",
            "Try using .loc[row_indexer,col_indexer] = value instead\n",
            "\n",
            "See the caveats in the documentation: https://pandas.pydata.org/pandas-docs/stable/user_guide/indexing.html#returning-a-view-versus-a-copy\n",
            "  This is separate from the ipykernel package so we can avoid doing imports until\n",
            "/usr/local/lib/python3.7/dist-packages/ipykernel_launcher.py:4: SettingWithCopyWarning: \n",
            "A value is trying to be set on a copy of a slice from a DataFrame.\n",
            "Try using .loc[row_indexer,col_indexer] = value instead\n",
            "\n",
            "See the caveats in the documentation: https://pandas.pydata.org/pandas-docs/stable/user_guide/indexing.html#returning-a-view-versus-a-copy\n",
            "  after removing the cwd from sys.path.\n",
            "/usr/local/lib/python3.7/dist-packages/ipykernel_launcher.py:5: SettingWithCopyWarning: \n",
            "A value is trying to be set on a copy of a slice from a DataFrame.\n",
            "Try using .loc[row_indexer,col_indexer] = value instead\n",
            "\n",
            "See the caveats in the documentation: https://pandas.pydata.org/pandas-docs/stable/user_guide/indexing.html#returning-a-view-versus-a-copy\n",
            "  \"\"\"\n"
          ]
        }
      ]
    },
    {
      "cell_type": "code",
      "source": [
        "url_data['full_stops'] = url_data.path.str.count('.')"
      ],
      "metadata": {
        "colab": {
          "base_uri": "https://localhost:8080/"
        },
        "id": "P5j0TCnezstm",
        "outputId": "bf1ffc7c-ff65-40d8-af73-5493221f3f68"
      },
      "execution_count": null,
      "outputs": [
        {
          "output_type": "stream",
          "name": "stderr",
          "text": [
            "/usr/local/lib/python3.7/dist-packages/ipykernel_launcher.py:1: SettingWithCopyWarning: \n",
            "A value is trying to be set on a copy of a slice from a DataFrame.\n",
            "Try using .loc[row_indexer,col_indexer] = value instead\n",
            "\n",
            "See the caveats in the documentation: https://pandas.pydata.org/pandas-docs/stable/user_guide/indexing.html#returning-a-view-versus-a-copy\n",
            "  \"\"\"Entry point for launching an IPython kernel.\n"
          ]
        }
      ]
    },
    {
      "cell_type": "code",
      "source": [
        "def get_num_subdomains(netloc: str) -> int:\n",
        "    subdomain = tldextract.extract(netloc).subdomain \n",
        "    if subdomain == \"\":\n",
        "        return 0\n",
        "    return subdomain.count('.') + 1\n",
        "\n",
        "url_data['num_subdomains'] = url_data['netloc'].apply(lambda net: get_num_subdomains(net))"
      ],
      "metadata": {
        "colab": {
          "base_uri": "https://localhost:8080/"
        },
        "id": "H5IPZnuIztoX",
        "outputId": "1b3ab698-eaeb-4bd1-86f0-45bc60991bd5"
      },
      "execution_count": null,
      "outputs": [
        {
          "output_type": "stream",
          "name": "stderr",
          "text": [
            "/usr/local/lib/python3.7/dist-packages/ipykernel_launcher.py:7: SettingWithCopyWarning: \n",
            "A value is trying to be set on a copy of a slice from a DataFrame.\n",
            "Try using .loc[row_indexer,col_indexer] = value instead\n",
            "\n",
            "See the caveats in the documentation: https://pandas.pydata.org/pandas-docs/stable/user_guide/indexing.html#returning-a-view-versus-a-copy\n",
            "  import sys\n"
          ]
        }
      ]
    },
    {
      "cell_type": "code",
      "source": [
        "tokenizer = RegexpTokenizer(r'[A-Za-z]+')\n",
        "def tokenize_domain(netloc: str) -> str:\n",
        "    split_domain = tldextract.extract(netloc)\n",
        "    no_tld = str(split_domain.subdomain +'.'+ split_domain.domain)\n",
        "    return \" \".join(map(str,tokenizer.tokenize(no_tld)))\n",
        "         \n",
        "url_data['domain_tokens'] = url_data['netloc'].apply(lambda net: tokenize_domain(net))"
      ],
      "metadata": {
        "colab": {
          "base_uri": "https://localhost:8080/"
        },
        "id": "lAcgSH2rzuyJ",
        "outputId": "1db22d1c-f64e-4064-b415-6f9d5e60724b"
      },
      "execution_count": null,
      "outputs": [
        {
          "output_type": "stream",
          "name": "stderr",
          "text": [
            "/usr/local/lib/python3.7/dist-packages/ipykernel_launcher.py:7: SettingWithCopyWarning: \n",
            "A value is trying to be set on a copy of a slice from a DataFrame.\n",
            "Try using .loc[row_indexer,col_indexer] = value instead\n",
            "\n",
            "See the caveats in the documentation: https://pandas.pydata.org/pandas-docs/stable/user_guide/indexing.html#returning-a-view-versus-a-copy\n",
            "  import sys\n"
          ]
        }
      ]
    },
    {
      "cell_type": "code",
      "source": [
        "url_data['path_tokens'] = url_data['path'].apply(lambda path: \" \".join(map(str,tokenizer.tokenize(path))))"
      ],
      "metadata": {
        "colab": {
          "base_uri": "https://localhost:8080/"
        },
        "id": "jQQsI7dVzvuU",
        "outputId": "9d2a4e8a-0362-4167-b8cd-ff4c5928dae2"
      },
      "execution_count": null,
      "outputs": [
        {
          "output_type": "stream",
          "name": "stderr",
          "text": [
            "/usr/local/lib/python3.7/dist-packages/ipykernel_launcher.py:1: SettingWithCopyWarning: \n",
            "A value is trying to be set on a copy of a slice from a DataFrame.\n",
            "Try using .loc[row_indexer,col_indexer] = value instead\n",
            "\n",
            "See the caveats in the documentation: https://pandas.pydata.org/pandas-docs/stable/user_guide/indexing.html#returning-a-view-versus-a-copy\n",
            "  \"\"\"Entry point for launching an IPython kernel.\n"
          ]
        }
      ]
    },
    {
      "cell_type": "code",
      "source": [
        "url_data_y = url_data['label']\n",
        "url_data.drop('label', axis=1, inplace=True)\n",
        "url_data.drop('url', axis=1, inplace=True)\n",
        "url_data.drop('scheme', axis=1, inplace=True)\n",
        "url_data.drop('netloc', axis=1, inplace=True)\n",
        "url_data.drop('path', axis=1, inplace=True)\n",
        "url_data.drop('params', axis=1, inplace=True)\n",
        "url_data.drop('query', axis=1, inplace=True)\n",
        "url_data.drop('fragment', axis=1, inplace=True)\n",
        "url_data"
      ],
      "metadata": {
        "colab": {
          "base_uri": "https://localhost:8080/",
          "height": 641
        },
        "id": "S8wROQ67z833",
        "outputId": "0fae2b58-e4f6-41ff-bf30-c8599f8da4db"
      },
      "execution_count": null,
      "outputs": [
        {
          "output_type": "stream",
          "name": "stderr",
          "text": [
            "/usr/local/lib/python3.7/dist-packages/pandas/core/frame.py:4913: SettingWithCopyWarning: \n",
            "A value is trying to be set on a copy of a slice from a DataFrame\n",
            "\n",
            "See the caveats in the documentation: https://pandas.pydata.org/pandas-docs/stable/user_guide/indexing.html#returning-a-view-versus-a-copy\n",
            "  errors=errors,\n"
          ]
        },
        {
          "output_type": "execute_result",
          "data": {
            "text/plain": [
              "        length   tld  is_ip  domain_hyphens  domain_underscores  path_hyphens  \\\n",
              "0          225    it  False               0                   0             1   \n",
              "1           81   com  False               0                   0             2   \n",
              "2          177   com  False               0                   0             1   \n",
              "3           60   com  False               0                   0             0   \n",
              "4          116   com  False               0                   0             1   \n",
              "...        ...   ...    ...             ...                 ...           ...   \n",
              "549341      15  None   True               0                   0             0   \n",
              "549342      18   org  False               1                   0             0   \n",
              "549343      17   org  False               1                   0             0   \n",
              "549344      18   org  False               1                   0             0   \n",
              "549345      17  info  False               1                   0             0   \n",
              "\n",
              "        path_underscores  slashes  full_stops  num_subdomains  \\\n",
              "0                      0        8         125               0   \n",
              "1                      1        4          66               1   \n",
              "2                      0       11         161               0   \n",
              "3                      0        2          42               1   \n",
              "4                      0        7          60               0   \n",
              "...                  ...      ...         ...             ...   \n",
              "549341                 0        1           1               0   \n",
              "549342                 0        1           1               0   \n",
              "549343                 0        1           1               0   \n",
              "549344                 0        1           1               0   \n",
              "549345                 0        0           0               0   \n",
              "\n",
              "          domain_tokens                                        path_tokens  \n",
              "0                nobell  ffb d dca cce f login SkyPe com en cgi bin ver...  \n",
              "1           www dghjdgf  paypal co uk cycgi bin webscrcmd home customer...  \n",
              "2          serviciosbys  paypal cgi bin get into herf secure dispatch r...  \n",
              "3        mail printakid          www online americanexpress com index html  \n",
              "4       thewhiskeydregs  wp content themes widescreen includes temp pro...  \n",
              "...                 ...                                                ...  \n",
              "549341                                                                      \n",
              "549342    apple checker                                                     \n",
              "549343     apple iclods                                                     \n",
              "549344    apple uptoday                                                     \n",
              "549345     apple search                                                     \n",
              "\n",
              "[549333 rows x 12 columns]"
            ],
            "text/html": [
              "\n",
              "  <div id=\"df-2426e799-fdd2-4bb1-89a0-c2cb358f0a7c\">\n",
              "    <div class=\"colab-df-container\">\n",
              "      <div>\n",
              "<style scoped>\n",
              "    .dataframe tbody tr th:only-of-type {\n",
              "        vertical-align: middle;\n",
              "    }\n",
              "\n",
              "    .dataframe tbody tr th {\n",
              "        vertical-align: top;\n",
              "    }\n",
              "\n",
              "    .dataframe thead th {\n",
              "        text-align: right;\n",
              "    }\n",
              "</style>\n",
              "<table border=\"1\" class=\"dataframe\">\n",
              "  <thead>\n",
              "    <tr style=\"text-align: right;\">\n",
              "      <th></th>\n",
              "      <th>length</th>\n",
              "      <th>tld</th>\n",
              "      <th>is_ip</th>\n",
              "      <th>domain_hyphens</th>\n",
              "      <th>domain_underscores</th>\n",
              "      <th>path_hyphens</th>\n",
              "      <th>path_underscores</th>\n",
              "      <th>slashes</th>\n",
              "      <th>full_stops</th>\n",
              "      <th>num_subdomains</th>\n",
              "      <th>domain_tokens</th>\n",
              "      <th>path_tokens</th>\n",
              "    </tr>\n",
              "  </thead>\n",
              "  <tbody>\n",
              "    <tr>\n",
              "      <th>0</th>\n",
              "      <td>225</td>\n",
              "      <td>it</td>\n",
              "      <td>False</td>\n",
              "      <td>0</td>\n",
              "      <td>0</td>\n",
              "      <td>1</td>\n",
              "      <td>0</td>\n",
              "      <td>8</td>\n",
              "      <td>125</td>\n",
              "      <td>0</td>\n",
              "      <td>nobell</td>\n",
              "      <td>ffb d dca cce f login SkyPe com en cgi bin ver...</td>\n",
              "    </tr>\n",
              "    <tr>\n",
              "      <th>1</th>\n",
              "      <td>81</td>\n",
              "      <td>com</td>\n",
              "      <td>False</td>\n",
              "      <td>0</td>\n",
              "      <td>0</td>\n",
              "      <td>2</td>\n",
              "      <td>1</td>\n",
              "      <td>4</td>\n",
              "      <td>66</td>\n",
              "      <td>1</td>\n",
              "      <td>www dghjdgf</td>\n",
              "      <td>paypal co uk cycgi bin webscrcmd home customer...</td>\n",
              "    </tr>\n",
              "    <tr>\n",
              "      <th>2</th>\n",
              "      <td>177</td>\n",
              "      <td>com</td>\n",
              "      <td>False</td>\n",
              "      <td>0</td>\n",
              "      <td>0</td>\n",
              "      <td>1</td>\n",
              "      <td>0</td>\n",
              "      <td>11</td>\n",
              "      <td>161</td>\n",
              "      <td>0</td>\n",
              "      <td>serviciosbys</td>\n",
              "      <td>paypal cgi bin get into herf secure dispatch r...</td>\n",
              "    </tr>\n",
              "    <tr>\n",
              "      <th>3</th>\n",
              "      <td>60</td>\n",
              "      <td>com</td>\n",
              "      <td>False</td>\n",
              "      <td>0</td>\n",
              "      <td>0</td>\n",
              "      <td>0</td>\n",
              "      <td>0</td>\n",
              "      <td>2</td>\n",
              "      <td>42</td>\n",
              "      <td>1</td>\n",
              "      <td>mail printakid</td>\n",
              "      <td>www online americanexpress com index html</td>\n",
              "    </tr>\n",
              "    <tr>\n",
              "      <th>4</th>\n",
              "      <td>116</td>\n",
              "      <td>com</td>\n",
              "      <td>False</td>\n",
              "      <td>0</td>\n",
              "      <td>0</td>\n",
              "      <td>1</td>\n",
              "      <td>0</td>\n",
              "      <td>7</td>\n",
              "      <td>60</td>\n",
              "      <td>0</td>\n",
              "      <td>thewhiskeydregs</td>\n",
              "      <td>wp content themes widescreen includes temp pro...</td>\n",
              "    </tr>\n",
              "    <tr>\n",
              "      <th>...</th>\n",
              "      <td>...</td>\n",
              "      <td>...</td>\n",
              "      <td>...</td>\n",
              "      <td>...</td>\n",
              "      <td>...</td>\n",
              "      <td>...</td>\n",
              "      <td>...</td>\n",
              "      <td>...</td>\n",
              "      <td>...</td>\n",
              "      <td>...</td>\n",
              "      <td>...</td>\n",
              "      <td>...</td>\n",
              "    </tr>\n",
              "    <tr>\n",
              "      <th>549341</th>\n",
              "      <td>15</td>\n",
              "      <td>None</td>\n",
              "      <td>True</td>\n",
              "      <td>0</td>\n",
              "      <td>0</td>\n",
              "      <td>0</td>\n",
              "      <td>0</td>\n",
              "      <td>1</td>\n",
              "      <td>1</td>\n",
              "      <td>0</td>\n",
              "      <td></td>\n",
              "      <td></td>\n",
              "    </tr>\n",
              "    <tr>\n",
              "      <th>549342</th>\n",
              "      <td>18</td>\n",
              "      <td>org</td>\n",
              "      <td>False</td>\n",
              "      <td>1</td>\n",
              "      <td>0</td>\n",
              "      <td>0</td>\n",
              "      <td>0</td>\n",
              "      <td>1</td>\n",
              "      <td>1</td>\n",
              "      <td>0</td>\n",
              "      <td>apple checker</td>\n",
              "      <td></td>\n",
              "    </tr>\n",
              "    <tr>\n",
              "      <th>549343</th>\n",
              "      <td>17</td>\n",
              "      <td>org</td>\n",
              "      <td>False</td>\n",
              "      <td>1</td>\n",
              "      <td>0</td>\n",
              "      <td>0</td>\n",
              "      <td>0</td>\n",
              "      <td>1</td>\n",
              "      <td>1</td>\n",
              "      <td>0</td>\n",
              "      <td>apple iclods</td>\n",
              "      <td></td>\n",
              "    </tr>\n",
              "    <tr>\n",
              "      <th>549344</th>\n",
              "      <td>18</td>\n",
              "      <td>org</td>\n",
              "      <td>False</td>\n",
              "      <td>1</td>\n",
              "      <td>0</td>\n",
              "      <td>0</td>\n",
              "      <td>0</td>\n",
              "      <td>1</td>\n",
              "      <td>1</td>\n",
              "      <td>0</td>\n",
              "      <td>apple uptoday</td>\n",
              "      <td></td>\n",
              "    </tr>\n",
              "    <tr>\n",
              "      <th>549345</th>\n",
              "      <td>17</td>\n",
              "      <td>info</td>\n",
              "      <td>False</td>\n",
              "      <td>1</td>\n",
              "      <td>0</td>\n",
              "      <td>0</td>\n",
              "      <td>0</td>\n",
              "      <td>0</td>\n",
              "      <td>0</td>\n",
              "      <td>0</td>\n",
              "      <td>apple search</td>\n",
              "      <td></td>\n",
              "    </tr>\n",
              "  </tbody>\n",
              "</table>\n",
              "<p>549333 rows × 12 columns</p>\n",
              "</div>\n",
              "      <button class=\"colab-df-convert\" onclick=\"convertToInteractive('df-2426e799-fdd2-4bb1-89a0-c2cb358f0a7c')\"\n",
              "              title=\"Convert this dataframe to an interactive table.\"\n",
              "              style=\"display:none;\">\n",
              "        \n",
              "  <svg xmlns=\"http://www.w3.org/2000/svg\" height=\"24px\"viewBox=\"0 0 24 24\"\n",
              "       width=\"24px\">\n",
              "    <path d=\"M0 0h24v24H0V0z\" fill=\"none\"/>\n",
              "    <path d=\"M18.56 5.44l.94 2.06.94-2.06 2.06-.94-2.06-.94-.94-2.06-.94 2.06-2.06.94zm-11 1L8.5 8.5l.94-2.06 2.06-.94-2.06-.94L8.5 2.5l-.94 2.06-2.06.94zm10 10l.94 2.06.94-2.06 2.06-.94-2.06-.94-.94-2.06-.94 2.06-2.06.94z\"/><path d=\"M17.41 7.96l-1.37-1.37c-.4-.4-.92-.59-1.43-.59-.52 0-1.04.2-1.43.59L10.3 9.45l-7.72 7.72c-.78.78-.78 2.05 0 2.83L4 21.41c.39.39.9.59 1.41.59.51 0 1.02-.2 1.41-.59l7.78-7.78 2.81-2.81c.8-.78.8-2.07 0-2.86zM5.41 20L4 18.59l7.72-7.72 1.47 1.35L5.41 20z\"/>\n",
              "  </svg>\n",
              "      </button>\n",
              "      \n",
              "  <style>\n",
              "    .colab-df-container {\n",
              "      display:flex;\n",
              "      flex-wrap:wrap;\n",
              "      gap: 12px;\n",
              "    }\n",
              "\n",
              "    .colab-df-convert {\n",
              "      background-color: #E8F0FE;\n",
              "      border: none;\n",
              "      border-radius: 50%;\n",
              "      cursor: pointer;\n",
              "      display: none;\n",
              "      fill: #1967D2;\n",
              "      height: 32px;\n",
              "      padding: 0 0 0 0;\n",
              "      width: 32px;\n",
              "    }\n",
              "\n",
              "    .colab-df-convert:hover {\n",
              "      background-color: #E2EBFA;\n",
              "      box-shadow: 0px 1px 2px rgba(60, 64, 67, 0.3), 0px 1px 3px 1px rgba(60, 64, 67, 0.15);\n",
              "      fill: #174EA6;\n",
              "    }\n",
              "\n",
              "    [theme=dark] .colab-df-convert {\n",
              "      background-color: #3B4455;\n",
              "      fill: #D2E3FC;\n",
              "    }\n",
              "\n",
              "    [theme=dark] .colab-df-convert:hover {\n",
              "      background-color: #434B5C;\n",
              "      box-shadow: 0px 1px 3px 1px rgba(0, 0, 0, 0.15);\n",
              "      filter: drop-shadow(0px 1px 2px rgba(0, 0, 0, 0.3));\n",
              "      fill: #FFFFFF;\n",
              "    }\n",
              "  </style>\n",
              "\n",
              "      <script>\n",
              "        const buttonEl =\n",
              "          document.querySelector('#df-2426e799-fdd2-4bb1-89a0-c2cb358f0a7c button.colab-df-convert');\n",
              "        buttonEl.style.display =\n",
              "          google.colab.kernel.accessAllowed ? 'block' : 'none';\n",
              "\n",
              "        async function convertToInteractive(key) {\n",
              "          const element = document.querySelector('#df-2426e799-fdd2-4bb1-89a0-c2cb358f0a7c');\n",
              "          const dataTable =\n",
              "            await google.colab.kernel.invokeFunction('convertToInteractive',\n",
              "                                                     [key], {});\n",
              "          if (!dataTable) return;\n",
              "\n",
              "          const docLinkHtml = 'Like what you see? Visit the ' +\n",
              "            '<a target=\"_blank\" href=https://colab.research.google.com/notebooks/data_table.ipynb>data table notebook</a>'\n",
              "            + ' to learn more about interactive tables.';\n",
              "          element.innerHTML = '';\n",
              "          dataTable['output_type'] = 'display_data';\n",
              "          await google.colab.output.renderOutput(dataTable, element);\n",
              "          const docLink = document.createElement('div');\n",
              "          docLink.innerHTML = docLinkHtml;\n",
              "          element.appendChild(docLink);\n",
              "        }\n",
              "      </script>\n",
              "    </div>\n",
              "  </div>\n",
              "  "
            ]
          },
          "metadata": {},
          "execution_count": 22
        }
      ]
    },
    {
      "cell_type": "code",
      "source": [
        "url_data"
      ],
      "metadata": {
        "colab": {
          "base_uri": "https://localhost:8080/",
          "height": 554
        },
        "id": "a5T6ZhML1kjN",
        "outputId": "d34d68a5-b621-4800-d754-32306239bf84"
      },
      "execution_count": null,
      "outputs": [
        {
          "output_type": "execute_result",
          "data": {
            "text/plain": [
              "        length   tld  is_ip  domain_hyphens  domain_underscores  path_hyphens  \\\n",
              "0          225    it  False               0                   0             1   \n",
              "1           81   com  False               0                   0             2   \n",
              "2          177   com  False               0                   0             1   \n",
              "3           60   com  False               0                   0             0   \n",
              "4          116   com  False               0                   0             1   \n",
              "...        ...   ...    ...             ...                 ...           ...   \n",
              "549341      15  None   True               0                   0             0   \n",
              "549342      18   org  False               1                   0             0   \n",
              "549343      17   org  False               1                   0             0   \n",
              "549344      18   org  False               1                   0             0   \n",
              "549345      17  info  False               1                   0             0   \n",
              "\n",
              "        path_underscores  slashes  full_stops  num_subdomains  \\\n",
              "0                      0        8         125               0   \n",
              "1                      1        4          66               1   \n",
              "2                      0       11         161               0   \n",
              "3                      0        2          42               1   \n",
              "4                      0        7          60               0   \n",
              "...                  ...      ...         ...             ...   \n",
              "549341                 0        1           1               0   \n",
              "549342                 0        1           1               0   \n",
              "549343                 0        1           1               0   \n",
              "549344                 0        1           1               0   \n",
              "549345                 0        0           0               0   \n",
              "\n",
              "          domain_tokens                                        path_tokens  \n",
              "0                nobell  ffb d dca cce f login SkyPe com en cgi bin ver...  \n",
              "1           www dghjdgf  paypal co uk cycgi bin webscrcmd home customer...  \n",
              "2          serviciosbys  paypal cgi bin get into herf secure dispatch r...  \n",
              "3        mail printakid          www online americanexpress com index html  \n",
              "4       thewhiskeydregs  wp content themes widescreen includes temp pro...  \n",
              "...                 ...                                                ...  \n",
              "549341                                                                      \n",
              "549342    apple checker                                                     \n",
              "549343     apple iclods                                                     \n",
              "549344    apple uptoday                                                     \n",
              "549345     apple search                                                     \n",
              "\n",
              "[549333 rows x 12 columns]"
            ],
            "text/html": [
              "\n",
              "  <div id=\"df-62bfeaf2-fb12-40ab-8a5a-c32f6288edf8\">\n",
              "    <div class=\"colab-df-container\">\n",
              "      <div>\n",
              "<style scoped>\n",
              "    .dataframe tbody tr th:only-of-type {\n",
              "        vertical-align: middle;\n",
              "    }\n",
              "\n",
              "    .dataframe tbody tr th {\n",
              "        vertical-align: top;\n",
              "    }\n",
              "\n",
              "    .dataframe thead th {\n",
              "        text-align: right;\n",
              "    }\n",
              "</style>\n",
              "<table border=\"1\" class=\"dataframe\">\n",
              "  <thead>\n",
              "    <tr style=\"text-align: right;\">\n",
              "      <th></th>\n",
              "      <th>length</th>\n",
              "      <th>tld</th>\n",
              "      <th>is_ip</th>\n",
              "      <th>domain_hyphens</th>\n",
              "      <th>domain_underscores</th>\n",
              "      <th>path_hyphens</th>\n",
              "      <th>path_underscores</th>\n",
              "      <th>slashes</th>\n",
              "      <th>full_stops</th>\n",
              "      <th>num_subdomains</th>\n",
              "      <th>domain_tokens</th>\n",
              "      <th>path_tokens</th>\n",
              "    </tr>\n",
              "  </thead>\n",
              "  <tbody>\n",
              "    <tr>\n",
              "      <th>0</th>\n",
              "      <td>225</td>\n",
              "      <td>it</td>\n",
              "      <td>False</td>\n",
              "      <td>0</td>\n",
              "      <td>0</td>\n",
              "      <td>1</td>\n",
              "      <td>0</td>\n",
              "      <td>8</td>\n",
              "      <td>125</td>\n",
              "      <td>0</td>\n",
              "      <td>nobell</td>\n",
              "      <td>ffb d dca cce f login SkyPe com en cgi bin ver...</td>\n",
              "    </tr>\n",
              "    <tr>\n",
              "      <th>1</th>\n",
              "      <td>81</td>\n",
              "      <td>com</td>\n",
              "      <td>False</td>\n",
              "      <td>0</td>\n",
              "      <td>0</td>\n",
              "      <td>2</td>\n",
              "      <td>1</td>\n",
              "      <td>4</td>\n",
              "      <td>66</td>\n",
              "      <td>1</td>\n",
              "      <td>www dghjdgf</td>\n",
              "      <td>paypal co uk cycgi bin webscrcmd home customer...</td>\n",
              "    </tr>\n",
              "    <tr>\n",
              "      <th>2</th>\n",
              "      <td>177</td>\n",
              "      <td>com</td>\n",
              "      <td>False</td>\n",
              "      <td>0</td>\n",
              "      <td>0</td>\n",
              "      <td>1</td>\n",
              "      <td>0</td>\n",
              "      <td>11</td>\n",
              "      <td>161</td>\n",
              "      <td>0</td>\n",
              "      <td>serviciosbys</td>\n",
              "      <td>paypal cgi bin get into herf secure dispatch r...</td>\n",
              "    </tr>\n",
              "    <tr>\n",
              "      <th>3</th>\n",
              "      <td>60</td>\n",
              "      <td>com</td>\n",
              "      <td>False</td>\n",
              "      <td>0</td>\n",
              "      <td>0</td>\n",
              "      <td>0</td>\n",
              "      <td>0</td>\n",
              "      <td>2</td>\n",
              "      <td>42</td>\n",
              "      <td>1</td>\n",
              "      <td>mail printakid</td>\n",
              "      <td>www online americanexpress com index html</td>\n",
              "    </tr>\n",
              "    <tr>\n",
              "      <th>4</th>\n",
              "      <td>116</td>\n",
              "      <td>com</td>\n",
              "      <td>False</td>\n",
              "      <td>0</td>\n",
              "      <td>0</td>\n",
              "      <td>1</td>\n",
              "      <td>0</td>\n",
              "      <td>7</td>\n",
              "      <td>60</td>\n",
              "      <td>0</td>\n",
              "      <td>thewhiskeydregs</td>\n",
              "      <td>wp content themes widescreen includes temp pro...</td>\n",
              "    </tr>\n",
              "    <tr>\n",
              "      <th>...</th>\n",
              "      <td>...</td>\n",
              "      <td>...</td>\n",
              "      <td>...</td>\n",
              "      <td>...</td>\n",
              "      <td>...</td>\n",
              "      <td>...</td>\n",
              "      <td>...</td>\n",
              "      <td>...</td>\n",
              "      <td>...</td>\n",
              "      <td>...</td>\n",
              "      <td>...</td>\n",
              "      <td>...</td>\n",
              "    </tr>\n",
              "    <tr>\n",
              "      <th>549341</th>\n",
              "      <td>15</td>\n",
              "      <td>None</td>\n",
              "      <td>True</td>\n",
              "      <td>0</td>\n",
              "      <td>0</td>\n",
              "      <td>0</td>\n",
              "      <td>0</td>\n",
              "      <td>1</td>\n",
              "      <td>1</td>\n",
              "      <td>0</td>\n",
              "      <td></td>\n",
              "      <td></td>\n",
              "    </tr>\n",
              "    <tr>\n",
              "      <th>549342</th>\n",
              "      <td>18</td>\n",
              "      <td>org</td>\n",
              "      <td>False</td>\n",
              "      <td>1</td>\n",
              "      <td>0</td>\n",
              "      <td>0</td>\n",
              "      <td>0</td>\n",
              "      <td>1</td>\n",
              "      <td>1</td>\n",
              "      <td>0</td>\n",
              "      <td>apple checker</td>\n",
              "      <td></td>\n",
              "    </tr>\n",
              "    <tr>\n",
              "      <th>549343</th>\n",
              "      <td>17</td>\n",
              "      <td>org</td>\n",
              "      <td>False</td>\n",
              "      <td>1</td>\n",
              "      <td>0</td>\n",
              "      <td>0</td>\n",
              "      <td>0</td>\n",
              "      <td>1</td>\n",
              "      <td>1</td>\n",
              "      <td>0</td>\n",
              "      <td>apple iclods</td>\n",
              "      <td></td>\n",
              "    </tr>\n",
              "    <tr>\n",
              "      <th>549344</th>\n",
              "      <td>18</td>\n",
              "      <td>org</td>\n",
              "      <td>False</td>\n",
              "      <td>1</td>\n",
              "      <td>0</td>\n",
              "      <td>0</td>\n",
              "      <td>0</td>\n",
              "      <td>1</td>\n",
              "      <td>1</td>\n",
              "      <td>0</td>\n",
              "      <td>apple uptoday</td>\n",
              "      <td></td>\n",
              "    </tr>\n",
              "    <tr>\n",
              "      <th>549345</th>\n",
              "      <td>17</td>\n",
              "      <td>info</td>\n",
              "      <td>False</td>\n",
              "      <td>1</td>\n",
              "      <td>0</td>\n",
              "      <td>0</td>\n",
              "      <td>0</td>\n",
              "      <td>0</td>\n",
              "      <td>0</td>\n",
              "      <td>0</td>\n",
              "      <td>apple search</td>\n",
              "      <td></td>\n",
              "    </tr>\n",
              "  </tbody>\n",
              "</table>\n",
              "<p>549333 rows × 12 columns</p>\n",
              "</div>\n",
              "      <button class=\"colab-df-convert\" onclick=\"convertToInteractive('df-62bfeaf2-fb12-40ab-8a5a-c32f6288edf8')\"\n",
              "              title=\"Convert this dataframe to an interactive table.\"\n",
              "              style=\"display:none;\">\n",
              "        \n",
              "  <svg xmlns=\"http://www.w3.org/2000/svg\" height=\"24px\"viewBox=\"0 0 24 24\"\n",
              "       width=\"24px\">\n",
              "    <path d=\"M0 0h24v24H0V0z\" fill=\"none\"/>\n",
              "    <path d=\"M18.56 5.44l.94 2.06.94-2.06 2.06-.94-2.06-.94-.94-2.06-.94 2.06-2.06.94zm-11 1L8.5 8.5l.94-2.06 2.06-.94-2.06-.94L8.5 2.5l-.94 2.06-2.06.94zm10 10l.94 2.06.94-2.06 2.06-.94-2.06-.94-.94-2.06-.94 2.06-2.06.94z\"/><path d=\"M17.41 7.96l-1.37-1.37c-.4-.4-.92-.59-1.43-.59-.52 0-1.04.2-1.43.59L10.3 9.45l-7.72 7.72c-.78.78-.78 2.05 0 2.83L4 21.41c.39.39.9.59 1.41.59.51 0 1.02-.2 1.41-.59l7.78-7.78 2.81-2.81c.8-.78.8-2.07 0-2.86zM5.41 20L4 18.59l7.72-7.72 1.47 1.35L5.41 20z\"/>\n",
              "  </svg>\n",
              "      </button>\n",
              "      \n",
              "  <style>\n",
              "    .colab-df-container {\n",
              "      display:flex;\n",
              "      flex-wrap:wrap;\n",
              "      gap: 12px;\n",
              "    }\n",
              "\n",
              "    .colab-df-convert {\n",
              "      background-color: #E8F0FE;\n",
              "      border: none;\n",
              "      border-radius: 50%;\n",
              "      cursor: pointer;\n",
              "      display: none;\n",
              "      fill: #1967D2;\n",
              "      height: 32px;\n",
              "      padding: 0 0 0 0;\n",
              "      width: 32px;\n",
              "    }\n",
              "\n",
              "    .colab-df-convert:hover {\n",
              "      background-color: #E2EBFA;\n",
              "      box-shadow: 0px 1px 2px rgba(60, 64, 67, 0.3), 0px 1px 3px 1px rgba(60, 64, 67, 0.15);\n",
              "      fill: #174EA6;\n",
              "    }\n",
              "\n",
              "    [theme=dark] .colab-df-convert {\n",
              "      background-color: #3B4455;\n",
              "      fill: #D2E3FC;\n",
              "    }\n",
              "\n",
              "    [theme=dark] .colab-df-convert:hover {\n",
              "      background-color: #434B5C;\n",
              "      box-shadow: 0px 1px 3px 1px rgba(0, 0, 0, 0.15);\n",
              "      filter: drop-shadow(0px 1px 2px rgba(0, 0, 0, 0.3));\n",
              "      fill: #FFFFFF;\n",
              "    }\n",
              "  </style>\n",
              "\n",
              "      <script>\n",
              "        const buttonEl =\n",
              "          document.querySelector('#df-62bfeaf2-fb12-40ab-8a5a-c32f6288edf8 button.colab-df-convert');\n",
              "        buttonEl.style.display =\n",
              "          google.colab.kernel.accessAllowed ? 'block' : 'none';\n",
              "\n",
              "        async function convertToInteractive(key) {\n",
              "          const element = document.querySelector('#df-62bfeaf2-fb12-40ab-8a5a-c32f6288edf8');\n",
              "          const dataTable =\n",
              "            await google.colab.kernel.invokeFunction('convertToInteractive',\n",
              "                                                     [key], {});\n",
              "          if (!dataTable) return;\n",
              "\n",
              "          const docLinkHtml = 'Like what you see? Visit the ' +\n",
              "            '<a target=\"_blank\" href=https://colab.research.google.com/notebooks/data_table.ipynb>data table notebook</a>'\n",
              "            + ' to learn more about interactive tables.';\n",
              "          element.innerHTML = '';\n",
              "          dataTable['output_type'] = 'display_data';\n",
              "          await google.colab.output.renderOutput(dataTable, element);\n",
              "          const docLink = document.createElement('div');\n",
              "          docLink.innerHTML = docLinkHtml;\n",
              "          element.appendChild(docLink);\n",
              "        }\n",
              "      </script>\n",
              "    </div>\n",
              "  </div>\n",
              "  "
            ]
          },
          "metadata": {},
          "execution_count": 23
        }
      ]
    },
    {
      "cell_type": "code",
      "source": [
        "clone = pd.concat([url_data, url_data_y], axis=1)\n",
        "clone"
      ],
      "metadata": {
        "colab": {
          "base_uri": "https://localhost:8080/",
          "height": 424
        },
        "id": "zvgb36PD2ExH",
        "outputId": "7f99257b-a5e8-41ec-dc35-b73d45cfbbbe"
      },
      "execution_count": null,
      "outputs": [
        {
          "output_type": "execute_result",
          "data": {
            "text/plain": [
              "        length  domain_hyphens  domain_underscores  path_hyphens  \\\n",
              "0          225               0                   0             1   \n",
              "1           81               0                   0             2   \n",
              "2          177               0                   0             1   \n",
              "3           60               0                   0             0   \n",
              "4          116               0                   0             1   \n",
              "...        ...             ...                 ...           ...   \n",
              "549341      15               0                   0             0   \n",
              "549342      18               1                   0             0   \n",
              "549343      17               1                   0             0   \n",
              "549344      18               1                   0             0   \n",
              "549345      17               1                   0             0   \n",
              "\n",
              "        path_underscores  slashes  full_stops  num_subdomains  label  \n",
              "0                      0        8         125               0      1  \n",
              "1                      1        4          66               1      1  \n",
              "2                      0       11         161               0      1  \n",
              "3                      0        2          42               1      1  \n",
              "4                      0        7          60               0      1  \n",
              "...                  ...      ...         ...             ...    ...  \n",
              "549341                 0        1           1               0      1  \n",
              "549342                 0        1           1               0      1  \n",
              "549343                 0        1           1               0      1  \n",
              "549344                 0        1           1               0      1  \n",
              "549345                 0        0           0               0      1  \n",
              "\n",
              "[549333 rows x 9 columns]"
            ],
            "text/html": [
              "\n",
              "  <div id=\"df-c11164e8-f787-4df2-858b-dc24601eef87\">\n",
              "    <div class=\"colab-df-container\">\n",
              "      <div>\n",
              "<style scoped>\n",
              "    .dataframe tbody tr th:only-of-type {\n",
              "        vertical-align: middle;\n",
              "    }\n",
              "\n",
              "    .dataframe tbody tr th {\n",
              "        vertical-align: top;\n",
              "    }\n",
              "\n",
              "    .dataframe thead th {\n",
              "        text-align: right;\n",
              "    }\n",
              "</style>\n",
              "<table border=\"1\" class=\"dataframe\">\n",
              "  <thead>\n",
              "    <tr style=\"text-align: right;\">\n",
              "      <th></th>\n",
              "      <th>length</th>\n",
              "      <th>domain_hyphens</th>\n",
              "      <th>domain_underscores</th>\n",
              "      <th>path_hyphens</th>\n",
              "      <th>path_underscores</th>\n",
              "      <th>slashes</th>\n",
              "      <th>full_stops</th>\n",
              "      <th>num_subdomains</th>\n",
              "      <th>label</th>\n",
              "    </tr>\n",
              "  </thead>\n",
              "  <tbody>\n",
              "    <tr>\n",
              "      <th>0</th>\n",
              "      <td>225</td>\n",
              "      <td>0</td>\n",
              "      <td>0</td>\n",
              "      <td>1</td>\n",
              "      <td>0</td>\n",
              "      <td>8</td>\n",
              "      <td>125</td>\n",
              "      <td>0</td>\n",
              "      <td>1</td>\n",
              "    </tr>\n",
              "    <tr>\n",
              "      <th>1</th>\n",
              "      <td>81</td>\n",
              "      <td>0</td>\n",
              "      <td>0</td>\n",
              "      <td>2</td>\n",
              "      <td>1</td>\n",
              "      <td>4</td>\n",
              "      <td>66</td>\n",
              "      <td>1</td>\n",
              "      <td>1</td>\n",
              "    </tr>\n",
              "    <tr>\n",
              "      <th>2</th>\n",
              "      <td>177</td>\n",
              "      <td>0</td>\n",
              "      <td>0</td>\n",
              "      <td>1</td>\n",
              "      <td>0</td>\n",
              "      <td>11</td>\n",
              "      <td>161</td>\n",
              "      <td>0</td>\n",
              "      <td>1</td>\n",
              "    </tr>\n",
              "    <tr>\n",
              "      <th>3</th>\n",
              "      <td>60</td>\n",
              "      <td>0</td>\n",
              "      <td>0</td>\n",
              "      <td>0</td>\n",
              "      <td>0</td>\n",
              "      <td>2</td>\n",
              "      <td>42</td>\n",
              "      <td>1</td>\n",
              "      <td>1</td>\n",
              "    </tr>\n",
              "    <tr>\n",
              "      <th>4</th>\n",
              "      <td>116</td>\n",
              "      <td>0</td>\n",
              "      <td>0</td>\n",
              "      <td>1</td>\n",
              "      <td>0</td>\n",
              "      <td>7</td>\n",
              "      <td>60</td>\n",
              "      <td>0</td>\n",
              "      <td>1</td>\n",
              "    </tr>\n",
              "    <tr>\n",
              "      <th>...</th>\n",
              "      <td>...</td>\n",
              "      <td>...</td>\n",
              "      <td>...</td>\n",
              "      <td>...</td>\n",
              "      <td>...</td>\n",
              "      <td>...</td>\n",
              "      <td>...</td>\n",
              "      <td>...</td>\n",
              "      <td>...</td>\n",
              "    </tr>\n",
              "    <tr>\n",
              "      <th>549341</th>\n",
              "      <td>15</td>\n",
              "      <td>0</td>\n",
              "      <td>0</td>\n",
              "      <td>0</td>\n",
              "      <td>0</td>\n",
              "      <td>1</td>\n",
              "      <td>1</td>\n",
              "      <td>0</td>\n",
              "      <td>1</td>\n",
              "    </tr>\n",
              "    <tr>\n",
              "      <th>549342</th>\n",
              "      <td>18</td>\n",
              "      <td>1</td>\n",
              "      <td>0</td>\n",
              "      <td>0</td>\n",
              "      <td>0</td>\n",
              "      <td>1</td>\n",
              "      <td>1</td>\n",
              "      <td>0</td>\n",
              "      <td>1</td>\n",
              "    </tr>\n",
              "    <tr>\n",
              "      <th>549343</th>\n",
              "      <td>17</td>\n",
              "      <td>1</td>\n",
              "      <td>0</td>\n",
              "      <td>0</td>\n",
              "      <td>0</td>\n",
              "      <td>1</td>\n",
              "      <td>1</td>\n",
              "      <td>0</td>\n",
              "      <td>1</td>\n",
              "    </tr>\n",
              "    <tr>\n",
              "      <th>549344</th>\n",
              "      <td>18</td>\n",
              "      <td>1</td>\n",
              "      <td>0</td>\n",
              "      <td>0</td>\n",
              "      <td>0</td>\n",
              "      <td>1</td>\n",
              "      <td>1</td>\n",
              "      <td>0</td>\n",
              "      <td>1</td>\n",
              "    </tr>\n",
              "    <tr>\n",
              "      <th>549345</th>\n",
              "      <td>17</td>\n",
              "      <td>1</td>\n",
              "      <td>0</td>\n",
              "      <td>0</td>\n",
              "      <td>0</td>\n",
              "      <td>0</td>\n",
              "      <td>0</td>\n",
              "      <td>0</td>\n",
              "      <td>1</td>\n",
              "    </tr>\n",
              "  </tbody>\n",
              "</table>\n",
              "<p>549333 rows × 9 columns</p>\n",
              "</div>\n",
              "      <button class=\"colab-df-convert\" onclick=\"convertToInteractive('df-c11164e8-f787-4df2-858b-dc24601eef87')\"\n",
              "              title=\"Convert this dataframe to an interactive table.\"\n",
              "              style=\"display:none;\">\n",
              "        \n",
              "  <svg xmlns=\"http://www.w3.org/2000/svg\" height=\"24px\"viewBox=\"0 0 24 24\"\n",
              "       width=\"24px\">\n",
              "    <path d=\"M0 0h24v24H0V0z\" fill=\"none\"/>\n",
              "    <path d=\"M18.56 5.44l.94 2.06.94-2.06 2.06-.94-2.06-.94-.94-2.06-.94 2.06-2.06.94zm-11 1L8.5 8.5l.94-2.06 2.06-.94-2.06-.94L8.5 2.5l-.94 2.06-2.06.94zm10 10l.94 2.06.94-2.06 2.06-.94-2.06-.94-.94-2.06-.94 2.06-2.06.94z\"/><path d=\"M17.41 7.96l-1.37-1.37c-.4-.4-.92-.59-1.43-.59-.52 0-1.04.2-1.43.59L10.3 9.45l-7.72 7.72c-.78.78-.78 2.05 0 2.83L4 21.41c.39.39.9.59 1.41.59.51 0 1.02-.2 1.41-.59l7.78-7.78 2.81-2.81c.8-.78.8-2.07 0-2.86zM5.41 20L4 18.59l7.72-7.72 1.47 1.35L5.41 20z\"/>\n",
              "  </svg>\n",
              "      </button>\n",
              "      \n",
              "  <style>\n",
              "    .colab-df-container {\n",
              "      display:flex;\n",
              "      flex-wrap:wrap;\n",
              "      gap: 12px;\n",
              "    }\n",
              "\n",
              "    .colab-df-convert {\n",
              "      background-color: #E8F0FE;\n",
              "      border: none;\n",
              "      border-radius: 50%;\n",
              "      cursor: pointer;\n",
              "      display: none;\n",
              "      fill: #1967D2;\n",
              "      height: 32px;\n",
              "      padding: 0 0 0 0;\n",
              "      width: 32px;\n",
              "    }\n",
              "\n",
              "    .colab-df-convert:hover {\n",
              "      background-color: #E2EBFA;\n",
              "      box-shadow: 0px 1px 2px rgba(60, 64, 67, 0.3), 0px 1px 3px 1px rgba(60, 64, 67, 0.15);\n",
              "      fill: #174EA6;\n",
              "    }\n",
              "\n",
              "    [theme=dark] .colab-df-convert {\n",
              "      background-color: #3B4455;\n",
              "      fill: #D2E3FC;\n",
              "    }\n",
              "\n",
              "    [theme=dark] .colab-df-convert:hover {\n",
              "      background-color: #434B5C;\n",
              "      box-shadow: 0px 1px 3px 1px rgba(0, 0, 0, 0.15);\n",
              "      filter: drop-shadow(0px 1px 2px rgba(0, 0, 0, 0.3));\n",
              "      fill: #FFFFFF;\n",
              "    }\n",
              "  </style>\n",
              "\n",
              "      <script>\n",
              "        const buttonEl =\n",
              "          document.querySelector('#df-c11164e8-f787-4df2-858b-dc24601eef87 button.colab-df-convert');\n",
              "        buttonEl.style.display =\n",
              "          google.colab.kernel.accessAllowed ? 'block' : 'none';\n",
              "\n",
              "        async function convertToInteractive(key) {\n",
              "          const element = document.querySelector('#df-c11164e8-f787-4df2-858b-dc24601eef87');\n",
              "          const dataTable =\n",
              "            await google.colab.kernel.invokeFunction('convertToInteractive',\n",
              "                                                     [key], {});\n",
              "          if (!dataTable) return;\n",
              "\n",
              "          const docLinkHtml = 'Like what you see? Visit the ' +\n",
              "            '<a target=\"_blank\" href=https://colab.research.google.com/notebooks/data_table.ipynb>data table notebook</a>'\n",
              "            + ' to learn more about interactive tables.';\n",
              "          element.innerHTML = '';\n",
              "          dataTable['output_type'] = 'display_data';\n",
              "          await google.colab.output.renderOutput(dataTable, element);\n",
              "          const docLink = document.createElement('div');\n",
              "          docLink.innerHTML = docLinkHtml;\n",
              "          element.appendChild(docLink);\n",
              "        }\n",
              "      </script>\n",
              "    </div>\n",
              "  </div>\n",
              "  "
            ]
          },
          "metadata": {},
          "execution_count": 31
        }
      ]
    },
    {
      "cell_type": "code",
      "source": [
        "# Checking for correlation between features\n",
        "plt.figure(figsize = (10,10))\n",
        "plt.title('Phishing URLs features correlation plot (Pearson)')\n",
        "corr = clone.corr()\n",
        "sns.heatmap(corr,xticklabels=corr.columns,yticklabels=corr.columns,linewidths=.1,cmap=\"Reds\")\n",
        "plt.show()"
      ],
      "metadata": {
        "colab": {
          "base_uri": "https://localhost:8080/",
          "height": 715
        },
        "id": "jiqxE5DOO82N",
        "outputId": "20822009-366f-4fb8-90bc-4daef37408b7"
      },
      "execution_count": 39,
      "outputs": [
        {
          "output_type": "display_data",
          "data": {
            "text/plain": [
              "<Figure size 720x720 with 2 Axes>"
            ],
            "image/png": "[encoded data removed]"
          },
          "metadata": {}
        }
      ]
    },
    {
      "cell_type": "code",
      "source": [
        "#  Splitting our data\n",
        "\n",
        "numeric_features = ['length', 'domain_hyphens', 'domain_underscores', 'path_hyphens', 'path_underscores', 'slashes', 'full_stops', 'num_subdomains']\n",
        "url_data= url_data[numeric_features]\n",
        "X_train, X_test, y_train, y_test = train_test_split(url_data, url_data_y, test_size=0.33, random_state=42)"
      ],
      "metadata": {
        "id": "hooKua8e0BuS"
      },
      "execution_count": null,
      "outputs": []
    },
    {
      "cell_type": "markdown",
      "source": [
        "## Oversampling"
      ],
      "metadata": {
        "id": "OiNYV9S_0IJZ"
      }
    },
    {
      "cell_type": "code",
      "source": [
        "# Random Oversampling\n",
        "\n",
        "print('Original dataset shape %s' % Counter(y_train))\n",
        "ros = RandomOverSampler()\n",
        "X_train_ros, y_train_ros = ros.fit_resample(X_train, y_train)\n",
        "print('Randomly oversampled dataset shape %s' % Counter(y_train_ros))"
      ],
      "metadata": {
        "colab": {
          "base_uri": "https://localhost:8080/"
        },
        "id": "6g635ecO0HJE",
        "outputId": "d7c2aac1-d30f-4a0f-ea3f-406aaadf72d2"
      },
      "execution_count": null,
      "outputs": [
        {
          "output_type": "stream",
          "name": "stdout",
          "text": [
            "Original dataset shape Counter({0: 263235, 1: 104818})\n",
            "Randomly oversampled dataset shape Counter({0: 263235, 1: 263235})\n"
          ]
        }
      ]
    },
    {
      "cell_type": "code",
      "source": [
        "# SMOTE Oversampling\n",
        "\n",
        "print('Original dataset shape %s' % Counter(y_train))\n",
        "smote = SMOTE(random_state=42)\n",
        "X_train_smote, y_train_smote = smote.fit_resample(X_train, y_train)\n",
        "print('SMOTE oversampled dataset shape %s' % Counter(y_train_smote))"
      ],
      "metadata": {
        "colab": {
          "base_uri": "https://localhost:8080/"
        },
        "id": "_ulqTFPG0Mh0",
        "outputId": "051ae530-8cde-4785-8c21-494e84342996"
      },
      "execution_count": null,
      "outputs": [
        {
          "output_type": "stream",
          "name": "stdout",
          "text": [
            "Original dataset shape Counter({0: 263235, 1: 104818})\n",
            "SMOTE oversampled dataset shape Counter({0: 263235, 1: 263235})\n"
          ]
        }
      ]
    },
    {
      "cell_type": "code",
      "source": [
        "# Random Undersampling\n",
        "\n",
        "print('Original dataset shape %s' % Counter(y_train))\n",
        "rus = RandomUnderSampler()\n",
        "X_train_rus, y_train_rus = rus.fit_resample(X_train, y_train)\n",
        "print('Randomly undersampled dataset shape %s' % Counter(y_train_rus))"
      ],
      "metadata": {
        "colab": {
          "base_uri": "https://localhost:8080/"
        },
        "id": "xVT2pClm0NGz",
        "outputId": "46d56b08-a2ba-4944-91f7-7a5bdcb6a7ca"
      },
      "execution_count": null,
      "outputs": [
        {
          "output_type": "stream",
          "name": "stdout",
          "text": [
            "Original dataset shape Counter({0: 263235, 1: 104818})\n",
            "Randomly undersampled dataset shape Counter({0: 104818, 1: 104818})\n"
          ]
        }
      ]
    },
    {
      "cell_type": "markdown",
      "source": [
        "## Feature Selection"
      ],
      "metadata": {
        "id": "AMNWhzpv0OQQ"
      }
    },
    {
      "cell_type": "code",
      "source": [
        "# Feature selection on original dataset\n",
        "\n",
        "print(f'Original dataset {X_train.shape}')\n",
        "kBest = SelectKBest(f_classif, k=5)\n",
        "X_train_feat = kBest.fit_transform(X_train, y_train)\n",
        "cols = kBest.get_support(indices=True)\n",
        "X_train_feat = pd.DataFrame(X_train_feat)\n",
        "print(f'Original dataset after feature selection {X_train_feat.shape}')\n",
        "\n",
        "X_test_feat = X_test.iloc[:,cols]"
      ],
      "metadata": {
        "colab": {
          "base_uri": "https://localhost:8080/"
        },
        "id": "EXDhAxZf0OE5",
        "outputId": "b42a931e-959d-4e85-f1b4-e4f9985dffc4"
      },
      "execution_count": null,
      "outputs": [
        {
          "output_type": "stream",
          "name": "stdout",
          "text": [
            "Original dataset (368053, 8)\n",
            "Original dataset after feature selection (368053, 5)\n"
          ]
        }
      ]
    },
    {
      "cell_type": "code",
      "source": [
        "# Feature selection on randomly oversampled dataset\n",
        "\n",
        "print(f'Randomly oversampled dataset {X_train_ros.shape}')\n",
        "kBest = SelectKBest(f_classif, k=5)\n",
        "X_train_ros_feat = kBest.fit_transform(X_train_ros, y_train_ros)\n",
        "cols = kBest.get_support(indices=True)\n",
        "X_train_ros_feat = pd.DataFrame(X_train_ros_feat)\n",
        "print(f'Randomly oversampled dataset after feature selection {X_train_ros_feat.shape}')\n",
        "\n",
        "X_test_ros_feat = X_test.iloc[:,cols]"
      ],
      "metadata": {
        "colab": {
          "base_uri": "https://localhost:8080/"
        },
        "id": "TVEL9i-i0TIh",
        "outputId": "3f176ad8-2b18-4528-903e-099ada654a84"
      },
      "execution_count": null,
      "outputs": [
        {
          "output_type": "stream",
          "name": "stdout",
          "text": [
            "Randomly oversampled dataset (526470, 8)\n",
            "Randomly oversampled dataset after feature selection (526470, 5)\n"
          ]
        }
      ]
    },
    {
      "cell_type": "code",
      "source": [
        "# Feature selection on SMOTE oversampled dataset\n",
        "\n",
        "print(f'SMOTE oversampled dataset {X_train_smote.shape}')\n",
        "kBest = SelectKBest(f_classif, k=5)\n",
        "X_train_smote_feat = kBest.fit_transform(X_train_smote, y_train_smote)\n",
        "cols = kBest.get_support(indices=True)\n",
        "X_train_smote_feat = pd.DataFrame(X_train_smote_feat)\n",
        "print(f'SMOTE oversampled dataset after feature selection {X_train_smote_feat.shape}')\n",
        "\n",
        "X_test_smote_feat = X_test.iloc[:,cols]"
      ],
      "metadata": {
        "colab": {
          "base_uri": "https://localhost:8080/"
        },
        "id": "e-nTm5hi0UCk",
        "outputId": "264166ad-26a1-4ba2-c66d-5c1d31eff2de"
      },
      "execution_count": null,
      "outputs": [
        {
          "output_type": "stream",
          "name": "stdout",
          "text": [
            "SMOTE oversampled dataset (526470, 8)\n",
            "SMOTE oversampled dataset after feature selection (526470, 5)\n"
          ]
        }
      ]
    },
    {
      "cell_type": "code",
      "source": [
        "# Feature selection on randomly undersampled dataset\n",
        "\n",
        "print(f'Randomly undersampled dataset {X_train_rus.shape}')\n",
        "kBest = SelectKBest(f_classif, k=5)\n",
        "X_train_rus_feat = kBest.fit_transform(X_train_rus, y_train_rus)\n",
        "cols = kBest.get_support(indices=True)\n",
        "X_train_rus_feat = pd.DataFrame(X_train_rus_feat)\n",
        "print(f'Randomly undersampled dataset after feature selection {X_train_rus_feat.shape}')\n",
        "\n",
        "X_test_rus_feat = X_test.iloc[:,cols]"
      ],
      "metadata": {
        "colab": {
          "base_uri": "https://localhost:8080/"
        },
        "id": "CXgIq2zz0VEo",
        "outputId": "ad35ba44-2d07-449e-f942-3a69b54695a4"
      },
      "execution_count": null,
      "outputs": [
        {
          "output_type": "stream",
          "name": "stdout",
          "text": [
            "Randomly undersampled dataset (209636, 8)\n",
            "Randomly undersampled dataset after feature selection (209636, 5)\n"
          ]
        }
      ]
    },
    {
      "cell_type": "markdown",
      "source": [
        "We will train our selected models on the listed versions of our dataset:\n",
        "1.   Original dataset\n",
        "2.   Original dataset with feature selection\n",
        "3.   SMOTE Oversampled dataset\n",
        "4.   SMOTE Oversampled dataset with feature selection\n",
        "5.   Randomly Oversampled dataset\n",
        "6.   Randomly Oversampled dataset with feature selection\n",
        "7.   Randomly Undersampled dataset \n",
        "8.   Randomly Undersampled dataset with feature selection"
      ],
      "metadata": {
        "id": "akkaq1H80XLr"
      }
    },
    {
      "cell_type": "markdown",
      "source": [
        "# Originaal Dataset"
      ],
      "metadata": {
        "id": "tjLSVn6FEI3X"
      }
    },
    {
      "cell_type": "markdown",
      "source": [
        "##Model 1"
      ],
      "metadata": {
        "id": "P0oHq4h9ELwf"
      }
    },
    {
      "cell_type": "code",
      "source": [
        "DT = DecisionTreeClassifier(criterion='gini', max_depth=None)\n",
        "DT.fit(X_train,y_train)\n",
        "pred1=DT.predict(X_test)\n",
        "\n",
        "rf = RandomForestRegressor(n_estimators = 500, random_state = 42)\n",
        "rf.fit(X_train, y_train);\n",
        "pred2 = rf.predict(X_test)\n",
        "\n",
        "KNN = KNeighborsClassifier(n_neighbors=7)\n",
        "KNN.fit(X_train,y_train)\n",
        "pred3=KNN.predict(X_test)\n",
        "\n",
        "finalpred = (pred1*4+ np.round(pred2)*4+pred3*3)/11\n",
        "\n",
        "print(\"Confusion Matrix: \\n\", confusion_matrix(y_test, np.round(finalpred)))\n",
        "print(\"\\nAccuracy : \\n\", accuracy_score(y_test, np.round(finalpred))*100)\n",
        "print(\"\\nReport : \\n\", classification_report(y_test, np.round(finalpred)))"
      ],
      "metadata": {
        "colab": {
          "base_uri": "https://localhost:8080/"
        },
        "id": "Q-VUJh_dCC1Z",
        "outputId": "3ee7025c-1500-4f56-ed97-529835751da3"
      },
      "execution_count": null,
      "outputs": [
        {
          "output_type": "stream",
          "name": "stdout",
          "text": [
            "Confusion Matrix: \n",
            " [[120147   9529]\n",
            " [ 17636  33968]]\n",
            "\n",
            "Accuracy : \n",
            " 85.01489408649603\n",
            "\n",
            "Report : \n",
            "               precision    recall  f1-score   support\n",
            "\n",
            "           0       0.87      0.93      0.90    129676\n",
            "           1       0.78      0.66      0.71     51604\n",
            "\n",
            "    accuracy                           0.85    181280\n",
            "   macro avg       0.83      0.79      0.81    181280\n",
            "weighted avg       0.85      0.85      0.85    181280\n",
            "\n"
          ]
        }
      ]
    },
    {
      "cell_type": "markdown",
      "source": [
        "## Model 2"
      ],
      "metadata": {
        "id": "V27ysielEj-8"
      }
    },
    {
      "cell_type": "code",
      "source": [
        "DecisionTree = DecisionTreeClassifier()\n",
        "DecisionTree.fit(X_train,y_train)\n",
        "DecisionTree_pred = DecisionTree.predict(X_test)\n",
        "\n",
        "KNN = KNeighborsClassifier(n_neighbors=3)\n",
        "KNN.fit(X_train,y_train)\n",
        "KNN_pred = KNN.predict(X_test)\n",
        "\n",
        "MLPC = MLPClassifier(random_state=1, max_iter=300)\n",
        "MLPC.fit(X_train,y_train)\n",
        "MLPC_pred = MLPC.predict(X_test)\n",
        "\n",
        "RandomForest = RandomForestClassifier()\n",
        "RandomForest.fit(X_train,y_train)\n",
        "RandomForest_pred = RandomForest.predict(X_test)\n",
        "\n",
        "modelpred = (DecisionTree_pred + KNN_pred + RandomForest_pred )/4\n",
        "\n",
        "print(\"Confusion Matrix: \\n\", confusion_matrix(y_test, np.round(modelpred)))\n",
        "print(\"\\nAccuracy : \\n\", accuracy_score(y_test, np.round(modelpred))*100)\n",
        "print(\"\\nReport : \\n\", classification_report(y_test, np.round(modelpred)))"
      ],
      "metadata": {
        "colab": {
          "base_uri": "https://localhost:8080/"
        },
        "id": "H_9f7j4UIb8m",
        "outputId": "18b717da-db32-4f04-b319-a8a5034d2748"
      },
      "execution_count": null,
      "outputs": [
        {
          "output_type": "stream",
          "name": "stdout",
          "text": [
            "Confusion Matrix: \n",
            " [[123431   6245]\n",
            " [ 22543  29061]]\n",
            "\n",
            "Accuracy : \n",
            " 84.11959399823478\n",
            "\n",
            "Report : \n",
            "               precision    recall  f1-score   support\n",
            "\n",
            "           0       0.85      0.95      0.90    129676\n",
            "           1       0.82      0.56      0.67     51604\n",
            "\n",
            "    accuracy                           0.84    181280\n",
            "   macro avg       0.83      0.76      0.78    181280\n",
            "weighted avg       0.84      0.84      0.83    181280\n",
            "\n"
          ]
        }
      ]
    },
    {
      "cell_type": "markdown",
      "source": [
        "## Model 3"
      ],
      "metadata": {
        "id": "y3388vpTI9FW"
      }
    },
    {
      "cell_type": "code",
      "source": [
        "model = BaggingRegressor(DecisionTreeRegressor(random_state=1))\n",
        "model.fit(X_train, y_train)\n",
        "pred5 = model.predict(X_test)\n",
        "\n",
        "model = AdaBoostRegressor()\n",
        "model.fit(X_train, y_train)\n",
        "pred6 = model.predict(X_test)\n",
        "\n",
        "model= GradientBoostingRegressor()\n",
        "model.fit(X_train, y_train)\n",
        "pred7 = model.predict(X_test)\n",
        "\n",
        "RandomForest = RandomForestClassifier()\n",
        "RandomForest.fit(X_train,y_train)\n",
        "pred8 = RandomForest.predict(X_test)\n",
        "\n",
        "model = lgb.LGBMClassifier()\n",
        "model.fit(X_train,y_train)\n",
        "pred9 = model.predict(X_test)\n",
        "\n",
        "modelpred = (pred5 + pred6 + pred7 + pred8 + pred9)/6\n",
        "\n",
        "print(\"Confusion Matrix: \\n\", confusion_matrix(y_test, np.round(modelpred)))\n",
        "print(\"\\nAccuracy : \\n\", accuracy_score(y_test, np.round(modelpred))*100)\n",
        "print(\"\\nReport : \\n\", classification_report(y_test, np.round(modelpred)))"
      ],
      "metadata": {
        "colab": {
          "base_uri": "https://localhost:8080/"
        },
        "id": "6xQPmGqzfNbL",
        "outputId": "77d51302-7936-4257-e693-a1188ea535e5"
      },
      "execution_count": null,
      "outputs": [
        {
          "output_type": "stream",
          "name": "stdout",
          "text": [
            "Confusion Matrix: \n",
            " [[125028   4648]\n",
            " [ 24967  26637]]\n",
            "\n",
            "Accuracy : \n",
            " 83.66339364518977\n",
            "\n",
            "Report : \n",
            "               precision    recall  f1-score   support\n",
            "\n",
            "           0       0.83      0.96      0.89    129676\n",
            "           1       0.85      0.52      0.64     51604\n",
            "\n",
            "    accuracy                           0.84    181280\n",
            "   macro avg       0.84      0.74      0.77    181280\n",
            "weighted avg       0.84      0.84      0.82    181280\n",
            "\n"
          ]
        }
      ]
    },
    {
      "cell_type": "markdown",
      "source": [
        "# Original Dataset with feature selection"
      ],
      "metadata": {
        "id": "OVTNkjS6go-h"
      }
    },
    {
      "cell_type": "markdown",
      "source": [
        "##Model 1"
      ],
      "metadata": {
        "id": "CJl-0mLmgwuy"
      }
    },
    {
      "cell_type": "code",
      "source": [
        "DT = DecisionTreeClassifier(criterion='gini', max_depth=None)\n",
        "DT = DT.fit(X_train_feat, y_train)\n",
        "pred1 = DT.predict(X_test_feat)\n",
        "\n",
        "rf = RandomForestRegressor(n_estimators = 500, random_state = 42)\n",
        "rf.fit(X_train_feat, y_train);\n",
        "pred2 = rf.predict(X_test_feat)\n",
        "\n",
        "KNN = KNeighborsClassifier(n_neighbors=7)\n",
        "KNN.fit(X_train_feat,y_train)\n",
        "pred3=KNN.predict(X_test_feat)\n",
        "\n",
        "finalpred = (pred1*4+ np.round(pred2)*4+pred3*3)/11\n",
        "\n",
        "print(\"Confusion Matrix: \\n\", confusion_matrix(y_test, np.round(finalpred)))\n",
        "print(\"\\nAccuracy : \\n\", accuracy_score(y_test, np.round(finalpred))*100)\n",
        "print(\"\\nReport : \\n\", classification_report(y_test, np.round(finalpred)))"
      ],
      "metadata": {
        "colab": {
          "base_uri": "https://localhost:8080/"
        },
        "id": "joXxP9aKgwuy",
        "outputId": "d91f5301-445c-4943-c548-143df084493c"
      },
      "execution_count": null,
      "outputs": [
        {
          "output_type": "stream",
          "name": "stdout",
          "text": [
            "Confusion Matrix: \n",
            " [[125080   4596]\n",
            " [ 37073  14531]]\n",
            "\n",
            "Accuracy : \n",
            " 77.01401147396292\n",
            "\n",
            "Report : \n",
            "               precision    recall  f1-score   support\n",
            "\n",
            "           0       0.77      0.96      0.86    129676\n",
            "           1       0.76      0.28      0.41     51604\n",
            "\n",
            "    accuracy                           0.77    181280\n",
            "   macro avg       0.77      0.62      0.63    181280\n",
            "weighted avg       0.77      0.77      0.73    181280\n",
            "\n"
          ]
        }
      ]
    },
    {
      "cell_type": "markdown",
      "source": [
        "## Model 2"
      ],
      "metadata": {
        "id": "TjTLXdqygwuy"
      }
    },
    {
      "cell_type": "code",
      "source": [
        "DecisionTree = DecisionTreeClassifier()\n",
        "DecisionTree.fit(X_train_feat,y_train)\n",
        "DecisionTree_pred = DecisionTree.predict(X_test_feat)\n",
        "\n",
        "KNN = KNeighborsClassifier(n_neighbors=3)\n",
        "KNN.fit(X_train_feat, y_train)\n",
        "KNN_pred = KNN.predict(X_test_feat)\n",
        "\n",
        "MLPC = MLPClassifier(random_state=1, max_iter=300)\n",
        "MLPC.fit(X_train_feat, y_train)\n",
        "MLPC_pred = MLPC.predict(X_test_feat)\n",
        "\n",
        "RandomForest = RandomForestClassifier()\n",
        "RandomForest.fit(X_train_feat, y_train)\n",
        "RandomForest_pred = RandomForest.predict(X_test_feat)\n",
        "\n",
        "modelpred = (DecisionTree_pred + KNN_pred + RandomForest_pred )/4\n",
        "\n",
        "print(\"Confusion Matrix: \\n\", confusion_matrix(y_test, np.round(modelpred)))\n",
        "print(\"\\nAccuracy : \\n\", accuracy_score(y_test, np.round(modelpred))*100)\n",
        "print(\"\\nReport : \\n\", classification_report(y_test, np.round(modelpred)))"
      ],
      "metadata": {
        "colab": {
          "base_uri": "https://localhost:8080/"
        },
        "outputId": "56563d75-afe1-47a5-e896-358d8c29d6d7",
        "id": "eqGFAUwvgwuz"
      },
      "execution_count": null,
      "outputs": [
        {
          "output_type": "stream",
          "name": "stdout",
          "text": [
            "Confusion Matrix: \n",
            " [[126772   2904]\n",
            " [ 39388  12216]]\n",
            "\n",
            "Accuracy : \n",
            " 76.6703442188879\n",
            "\n",
            "Report : \n",
            "               precision    recall  f1-score   support\n",
            "\n",
            "           0       0.76      0.98      0.86    129676\n",
            "           1       0.81      0.24      0.37     51604\n",
            "\n",
            "    accuracy                           0.77    181280\n",
            "   macro avg       0.79      0.61      0.61    181280\n",
            "weighted avg       0.78      0.77      0.72    181280\n",
            "\n"
          ]
        }
      ]
    },
    {
      "cell_type": "markdown",
      "source": [
        "## Model 3"
      ],
      "metadata": {
        "id": "yP3EO51Xgwuz"
      }
    },
    {
      "cell_type": "code",
      "source": [
        "model = BaggingRegressor(DecisionTreeRegressor(random_state=1))\n",
        "model.fit(X_train_feat, y_train)\n",
        "pred5 = model.predict(X_test_feat)\n",
        "\n",
        "model = AdaBoostRegressor()\n",
        "model.fit(X_train_feat, y_train)\n",
        "pred6 = model.predict(X_test_feat)\n",
        "\n",
        "model= GradientBoostingRegressor()\n",
        "model.fit(X_train_feat, y_train)\n",
        "pred7 = model.predict(X_test_feat)\n",
        "\n",
        "RandomForest = RandomForestClassifier()\n",
        "RandomForest.fit(X_train_feat, y_train)\n",
        "pred8 = RandomForest.predict(X_test_feat)\n",
        "\n",
        "model = lgb.LGBMClassifier()\n",
        "model.fit(X_train_feat, y_train)\n",
        "pred9 = model.predict(X_test_feat)\n",
        "\n",
        "modelpred = (pred5 + pred6 + pred7 + pred8 + pred9 )/6\n",
        "\n",
        "print(\"Confusion Matrix: \\n\", confusion_matrix(y_test, np.round(modelpred)))\n",
        "print(\"\\nAccuracy : \\n\", accuracy_score(y_test, np.round(modelpred))*100)\n",
        "print(\"\\nReport : \\n\", classification_report(y_test, np.round(modelpred)))"
      ],
      "metadata": {
        "colab": {
          "base_uri": "https://localhost:8080/"
        },
        "outputId": "2b7f22ce-b4dc-4589-c317-97bcf289351d",
        "id": "rSq5SNiTgwu0"
      },
      "execution_count": null,
      "outputs": [
        {
          "output_type": "stream",
          "name": "stdout",
          "text": [
            "Confusion Matrix: \n",
            " [[126714   2962]\n",
            " [ 38857  12747]]\n",
            "\n",
            "Accuracy : \n",
            " 76.931266548985\n",
            "\n",
            "Report : \n",
            "               precision    recall  f1-score   support\n",
            "\n",
            "           0       0.77      0.98      0.86    129676\n",
            "           1       0.81      0.25      0.38     51604\n",
            "\n",
            "    accuracy                           0.77    181280\n",
            "   macro avg       0.79      0.61      0.62    181280\n",
            "weighted avg       0.78      0.77      0.72    181280\n",
            "\n"
          ]
        }
      ]
    },
    {
      "cell_type": "markdown",
      "source": [
        "# SMOTE Oversampling Dataset"
      ],
      "metadata": {
        "id": "3mloYe0NlvxF"
      }
    },
    {
      "cell_type": "markdown",
      "source": [
        "##Model 1"
      ],
      "metadata": {
        "id": "wvl7QJs0l1y6"
      }
    },
    {
      "cell_type": "code",
      "source": [
        "DT = DecisionTreeClassifier(criterion='gini', max_depth=None)\n",
        "DT = DT.fit(X_train_smote, y_train_smote)\n",
        "pred1 = DT.predict(X_test)\n",
        "\n",
        "rf = RandomForestRegressor(n_estimators = 500, random_state = 42)\n",
        "rf.fit(X_train_smote, y_train_smote);\n",
        "pred2 = rf.predict(X_test)\n",
        "\n",
        "KNN = KNeighborsClassifier(n_neighbors=7)\n",
        "KNN.fit(X_train_smote, y_train_smote)\n",
        "pred3=KNN.predict(X_test)\n",
        "\n",
        "finalpred = (pred1*4+ np.round(pred2)*4+pred3*3)/11\n",
        "\n",
        "print(\"Confusion Matrix: \\n\", confusion_matrix(y_test, np.round(finalpred)))\n",
        "print(\"\\nAccuracy : \\n\", accuracy_score(y_test, np.round(finalpred))*100)\n",
        "print(\"\\nReport : \\n\", classification_report(y_test, np.round(finalpred)))"
      ],
      "metadata": {
        "colab": {
          "base_uri": "https://localhost:8080/"
        },
        "outputId": "ca4bac55-6f20-48e2-c0fe-f7460f8823aa",
        "id": "d1HJKGwpl1y7"
      },
      "execution_count": null,
      "outputs": [
        {
          "output_type": "stream",
          "name": "stdout",
          "text": [
            "Confusion Matrix: \n",
            " [[107934  21742]\n",
            " [ 10185  41419]]\n",
            "\n",
            "Accuracy : \n",
            " 82.38801853486319\n",
            "\n",
            "Report : \n",
            "               precision    recall  f1-score   support\n",
            "\n",
            "           0       0.91      0.83      0.87    129676\n",
            "           1       0.66      0.80      0.72     51604\n",
            "\n",
            "    accuracy                           0.82    181280\n",
            "   macro avg       0.78      0.82      0.80    181280\n",
            "weighted avg       0.84      0.82      0.83    181280\n",
            "\n"
          ]
        }
      ]
    },
    {
      "cell_type": "markdown",
      "source": [
        "## Model 2"
      ],
      "metadata": {
        "id": "RA5cvfHhl1y7"
      }
    },
    {
      "cell_type": "code",
      "source": [
        "DecisionTree = DecisionTreeClassifier()\n",
        "DecisionTree.fit(X_train_smote, y_train_smote)\n",
        "DecisionTree_pred = DecisionTree.predict(X_test)\n",
        "\n",
        "KNN = KNeighborsClassifier(n_neighbors=3)\n",
        "KNN.fit(X_train_smote, y_train_smote)\n",
        "KNN_pred = KNN.predict(X_test)\n",
        "\n",
        "MLPC = MLPClassifier(random_state=1, max_iter=300)\n",
        "MLPC.fit(X_train_smote, y_train_smote)\n",
        "MLPC_pred = MLPC.predict(X_test)\n",
        "\n",
        "RandomForest = RandomForestClassifier()\n",
        "RandomForest.fit(X_train_smote, y_train_smote)\n",
        "RandomForest_pred = RandomForest.predict(X_test)\n",
        "\n",
        "modelpred = (DecisionTree_pred + KNN_pred + RandomForest_pred )/4\n",
        "\n",
        "print(\"Confusion Matrix: \\n\", confusion_matrix(y_test, np.round(modelpred)))\n",
        "print(\"\\nAccuracy : \\n\", accuracy_score(y_test, np.round(modelpred))*100)\n",
        "print(\"\\nReport : \\n\", classification_report(y_test, np.round(modelpred)))"
      ],
      "metadata": {
        "colab": {
          "base_uri": "https://localhost:8080/"
        },
        "outputId": "9ca684b0-92ef-4b07-bf52-018981201cc4",
        "id": "tuhz-cJil1y7"
      },
      "execution_count": null,
      "outputs": [
        {
          "output_type": "stream",
          "name": "stdout",
          "text": [
            "Confusion Matrix: \n",
            " [[118776  10900]\n",
            " [ 18422  33182]]\n",
            "\n",
            "Accuracy : \n",
            " 83.82502206531332\n",
            "\n",
            "Report : \n",
            "               precision    recall  f1-score   support\n",
            "\n",
            "           0       0.87      0.92      0.89    129676\n",
            "           1       0.75      0.64      0.69     51604\n",
            "\n",
            "    accuracy                           0.84    181280\n",
            "   macro avg       0.81      0.78      0.79    181280\n",
            "weighted avg       0.83      0.84      0.83    181280\n",
            "\n"
          ]
        }
      ]
    },
    {
      "cell_type": "markdown",
      "source": [
        "## Model 3"
      ],
      "metadata": {
        "id": "H8j8qVrzl1y7"
      }
    },
    {
      "cell_type": "code",
      "source": [
        "model = BaggingRegressor(DecisionTreeRegressor(random_state=1))\n",
        "model.fit(X_train_smote, y_train_smote)\n",
        "pred5 = model.predict(X_test)\n",
        "\n",
        "model = AdaBoostRegressor()\n",
        "model.fit(X_train_smote, y_train_smote)\n",
        "pred6 = model.predict(X_test)\n",
        "\n",
        "model= GradientBoostingRegressor()\n",
        "model.fit(X_train_smote, y_train_smote)\n",
        "pred7 = model.predict(X_test)\n",
        "\n",
        "RandomForest = RandomForestClassifier()\n",
        "RandomForest.fit(X_train_smote, y_train_smote)\n",
        "pred8 = RandomForest.predict(X_test)\n",
        "\n",
        "model = lgb.LGBMClassifier()\n",
        "model.fit(X_train_smote, y_train_smote)\n",
        "pred9 = model.predict(X_test)\n",
        "\n",
        "modelpred = (pred5 + pred6 + pred7 + pred8 + pred9 )/6\n",
        "\n",
        "print(\"Confusion Matrix: \\n\", confusion_matrix(y_test, np.round(modelpred)))\n",
        "print(\"\\nAccuracy : \\n\", accuracy_score(y_test, np.round(modelpred))*100)\n",
        "print(\"\\nReport : \\n\", classification_report(y_test, np.round(modelpred)))"
      ],
      "metadata": {
        "colab": {
          "base_uri": "https://localhost:8080/"
        },
        "outputId": "04d79472-d312-49f7-ea9c-567cf7ae4e7b",
        "id": "w25Vl70Nl1y8"
      },
      "execution_count": null,
      "outputs": [
        {
          "output_type": "stream",
          "name": "stdout",
          "text": [
            "Confusion Matrix: \n",
            " [[113331  16345]\n",
            " [ 13629  37975]]\n",
            "\n",
            "Accuracy : \n",
            " 83.4653574580759\n",
            "\n",
            "Report : \n",
            "               precision    recall  f1-score   support\n",
            "\n",
            "           0       0.89      0.87      0.88    129676\n",
            "           1       0.70      0.74      0.72     51604\n",
            "\n",
            "    accuracy                           0.83    181280\n",
            "   macro avg       0.80      0.80      0.80    181280\n",
            "weighted avg       0.84      0.83      0.84    181280\n",
            "\n"
          ]
        }
      ]
    },
    {
      "cell_type": "markdown",
      "source": [
        "# SMOTE oversampling with feature selection"
      ],
      "metadata": {
        "id": "xTcn60rbwnyj"
      }
    },
    {
      "cell_type": "markdown",
      "source": [
        "##Model 1"
      ],
      "metadata": {
        "id": "c-gex9LYwtxL"
      }
    },
    {
      "cell_type": "code",
      "source": [
        "DT = DecisionTreeClassifier(criterion='gini', max_depth=None)\n",
        "DT = DT.fit(X_train_smote_feat, y_train_smote)\n",
        "pred1 = DT.predict(X_test_smote_feat)\n",
        " \n",
        "rf = RandomForestRegressor(n_estimators = 500, random_state = 42)\n",
        "rf.fit(X_train_smote_feat, y_train_smote);\n",
        "pred2 = rf.predict(X_test_smote_feat)\n",
        "\n",
        "KNN = KNeighborsClassifier(n_neighbors=7)\n",
        "KNN.fit(X_train_smote_feat, y_train_smote)\n",
        "pred3=KNN.predict(X_test_smote_feat)\n",
        "\n",
        "finalpred = (pred1*4+ np.round(pred2)*4+pred3*3)/11\n",
        "\n",
        "print(\"Confusion Matrix: \\n\", confusion_matrix(y_test, np.round(finalpred)))\n",
        "print(\"\\nAccuracy : \\n\", accuracy_score(y_test, np.round(finalpred))*100)\n",
        "print(\"\\nReport : \\n\", classification_report(y_test, np.round(finalpred)))"
      ],
      "metadata": {
        "colab": {
          "base_uri": "https://localhost:8080/"
        },
        "outputId": "91f1bae5-e076-4f67-a5df-611bffb35fad",
        "id": "9VhSvStYwtxL"
      },
      "execution_count": null,
      "outputs": [
        {
          "output_type": "stream",
          "name": "stdout",
          "text": [
            "Confusion Matrix: \n",
            " [[82310 47366]\n",
            " [11344 40260]]\n",
            "\n",
            "Accuracy : \n",
            " 67.61363636363636\n",
            "\n",
            "Report : \n",
            "               precision    recall  f1-score   support\n",
            "\n",
            "           0       0.88      0.63      0.74    129676\n",
            "           1       0.46      0.78      0.58     51604\n",
            "\n",
            "    accuracy                           0.68    181280\n",
            "   macro avg       0.67      0.71      0.66    181280\n",
            "weighted avg       0.76      0.68      0.69    181280\n",
            "\n"
          ]
        }
      ]
    },
    {
      "cell_type": "markdown",
      "source": [
        "## Model 2"
      ],
      "metadata": {
        "id": "u47gizUSwtxL"
      }
    },
    {
      "cell_type": "code",
      "source": [
        "DecisionTree = DecisionTreeClassifier()\n",
        "DecisionTree.fit(X_train_smote_feat, y_train_smote)\n",
        "DecisionTree_pred = DecisionTree.predict(X_test_smote_feat)\n",
        "\n",
        "KNN = KNeighborsClassifier(n_neighbors=3)\n",
        "KNN.fit(X_train_smote_feat, y_train_smote)\n",
        "KNN_pred = KNN.predict(X_test_smote_feat)\n",
        "\n",
        "MLPC = MLPClassifier(random_state=1, max_iter=300)\n",
        "MLPC.fit(X_train_smote_feat, y_train_smote)\n",
        "MLPC_pred = MLPC.predict(X_test_smote_feat)\n",
        "\n",
        "RandomForest = RandomForestClassifier()\n",
        "RandomForest.fit(X_train_smote_feat, y_train_smote)\n",
        "RandomForest_pred = RandomForest.predict(X_test_smote_feat)\n",
        "\n",
        "modelpred = (DecisionTree_pred + KNN_pred + RandomForest_pred )/4\n",
        "\n",
        "print(\"Confusion Matrix: \\n\", confusion_matrix(y_test, np.round(modelpred)))\n",
        "print(\"\\nAccuracy : \\n\", accuracy_score(y_test, np.round(modelpred))*100)\n",
        "print(\"\\nReport : \\n\", classification_report(y_test, np.round(modelpred)))"
      ],
      "metadata": {
        "colab": {
          "base_uri": "https://localhost:8080/"
        },
        "outputId": "bbbc1c45-1f1b-4952-bda8-804198dea456",
        "id": "noYlswEkwtxM"
      },
      "execution_count": null,
      "outputs": [
        {
          "output_type": "stream",
          "name": "stdout",
          "text": [
            "Confusion Matrix: \n",
            " [[115322  14354]\n",
            " [ 31784  19820]]\n",
            "\n",
            "Accuracy : \n",
            " 74.54876434245367\n",
            "\n",
            "Report : \n",
            "               precision    recall  f1-score   support\n",
            "\n",
            "           0       0.78      0.89      0.83    129676\n",
            "           1       0.58      0.38      0.46     51604\n",
            "\n",
            "    accuracy                           0.75    181280\n",
            "   macro avg       0.68      0.64      0.65    181280\n",
            "weighted avg       0.73      0.75      0.73    181280\n",
            "\n"
          ]
        }
      ]
    },
    {
      "cell_type": "markdown",
      "source": [
        "## Model 3"
      ],
      "metadata": {
        "id": "uR_G33bzwtxM"
      }
    },
    {
      "cell_type": "code",
      "source": [
        "model = BaggingRegressor(DecisionTreeRegressor(random_state=1))\n",
        "model.fit(X_train_smote_feat, y_train_smote)\n",
        "pred5 = model.predict(X_test_smote_feat)\n",
        "\n",
        "model = AdaBoostRegressor()\n",
        "model.fit(X_train_smote_feat, y_train_smote)\n",
        "pred6 = model.predict(X_test_smote_feat)\n",
        "\n",
        "model= GradientBoostingRegressor()\n",
        "model.fit(X_train_smote_feat, y_train_smote)\n",
        "pred7 = model.predict(X_test_smote_feat)\n",
        "\n",
        "RandomForest = RandomForestClassifier()\n",
        "RandomForest.fit(X_train_smote_feat, y_train_smote)\n",
        "pred8 = RandomForest.predict(X_test_smote_feat)\n",
        "\n",
        "model = lgb.LGBMClassifier()\n",
        "model.fit(X_train_smote_feat, y_train_smote)\n",
        "pred9 = model.predict(X_test_smote_feat)\n",
        "\n",
        "modelpred = (pred5 + pred6 + pred7 + pred8 + pred9 )/6\n",
        "\n",
        "print(\"Confusion Matrix: \\n\", confusion_matrix(y_test, np.round(modelpred)))\n",
        "print(\"\\nAccuracy : \\n\", accuracy_score(y_test, np.round(modelpred))*100)\n",
        "print(\"\\nReport : \\n\", classification_report(y_test, np.round(modelpred)))"
      ],
      "metadata": {
        "colab": {
          "base_uri": "https://localhost:8080/"
        },
        "outputId": "f3cbb950-923d-4c16-c702-e5278993d947",
        "id": "5l0VYQSXwtxM"
      },
      "execution_count": null,
      "outputs": [
        {
          "output_type": "stream",
          "name": "stdout",
          "text": [
            "Confusion Matrix: \n",
            " [[84228 45448]\n",
            " [12267 39337]]\n",
            "\n",
            "Accuracy : \n",
            " 68.16251103265665\n",
            "\n",
            "Report : \n",
            "               precision    recall  f1-score   support\n",
            "\n",
            "           0       0.87      0.65      0.74    129676\n",
            "           1       0.46      0.76      0.58     51604\n",
            "\n",
            "    accuracy                           0.68    181280\n",
            "   macro avg       0.67      0.71      0.66    181280\n",
            "weighted avg       0.76      0.68      0.70    181280\n",
            "\n"
          ]
        }
      ]
    },
    {
      "cell_type": "markdown",
      "source": [
        "# Random Oversampling"
      ],
      "metadata": {
        "id": "kHqNpYAcAc9s"
      }
    },
    {
      "cell_type": "markdown",
      "source": [
        "##Model 1"
      ],
      "metadata": {
        "id": "5IMTHqgIAfal"
      }
    },
    {
      "cell_type": "code",
      "source": [
        "DT = DecisionTreeClassifier(criterion='gini', max_depth=None)\n",
        "DT = DT.fit(X_train_ros, y_train_ros)\n",
        "pred1 = DT.predict(X_test)\n",
        "\n",
        "rf = RandomForestRegressor(n_estimators = 500, random_state = 42)\n",
        "rf.fit(X_train_ros, y_train_ros);\n",
        "pred2 = rf.predict(X_test)\n",
        "\n",
        "KNN = KNeighborsClassifier(n_neighbors=7)\n",
        "KNN.fit(X_train_ros, y_train_ros)\n",
        "pred3=KNN.predict(X_test)\n",
        "\n",
        "finalpred = (pred1*4+ np.round(pred2)*4+pred3*3)/11\n",
        "\n",
        "print(\"Confusion Matrix: \\n\", confusion_matrix(y_test, np.round(finalpred)))\n",
        "print(\"\\nAccuracy : \\n\", accuracy_score(y_test, np.round(finalpred))*100)\n",
        "print(\"\\nReport : \\n\", classification_report(y_test, np.round(finalpred)))"
      ],
      "metadata": {
        "colab": {
          "base_uri": "https://localhost:8080/"
        },
        "outputId": "87d11ef9-80a6-49d6-b4e7-71f997688cff",
        "id": "wsE26JhWAfal"
      },
      "execution_count": null,
      "outputs": [
        {
          "output_type": "stream",
          "name": "stdout",
          "text": [
            "Confusion Matrix: \n",
            " [[108539  21137]\n",
            " [ 10446  41158]]\n",
            "\n",
            "Accuracy : \n",
            " 82.57778022947926\n",
            "\n",
            "Report : \n",
            "               precision    recall  f1-score   support\n",
            "\n",
            "           0       0.91      0.84      0.87    129676\n",
            "           1       0.66      0.80      0.72     51604\n",
            "\n",
            "    accuracy                           0.83    181280\n",
            "   macro avg       0.79      0.82      0.80    181280\n",
            "weighted avg       0.84      0.83      0.83    181280\n",
            "\n"
          ]
        }
      ]
    },
    {
      "cell_type": "markdown",
      "source": [
        "## Model 2"
      ],
      "metadata": {
        "id": "YY6gJ6a2Afam"
      }
    },
    {
      "cell_type": "code",
      "source": [
        "DecisionTree = DecisionTreeClassifier()\n",
        "DecisionTree.fit(X_train_ros, y_train_ros)\n",
        "DecisionTree_pred = DecisionTree.predict(X_test)\n",
        "\n",
        "KNN = KNeighborsClassifier(n_neighbors=3)\n",
        "KNN.fit(X_train_ros, y_train_ros)\n",
        "KNN_pred = KNN.predict(X_test)\n",
        "\n",
        "MLPC = MLPClassifier(random_state=1, max_iter=300)\n",
        "MLPC.fit(X_train_ros, y_train_ros)\n",
        "MLPC_pred = MLPC.predict(X_test)\n",
        "\n",
        "RandomForest = RandomForestClassifier()\n",
        "RandomForest.fit(X_train_ros, y_train_ros)\n",
        "RandomForest_pred = RandomForest.predict(X_test)\n",
        "\n",
        "modelpred = (DecisionTree_pred + KNN_pred + RandomForest_pred )/4\n",
        "\n",
        "print(\"Confusion Matrix: \\n\", confusion_matrix(y_test, np.round(modelpred)))\n",
        "print(\"\\nAccuracy : \\n\", accuracy_score(y_test, np.round(modelpred))*100)\n",
        "print(\"\\nReport : \\n\", classification_report(y_test, np.round(modelpred)))"
      ],
      "metadata": {
        "colab": {
          "base_uri": "https://localhost:8080/"
        },
        "outputId": "7dafee55-cf98-4b75-f2f4-9543930c5939",
        "id": "QC3Epsb_Afam"
      },
      "execution_count": null,
      "outputs": [
        {
          "output_type": "stream",
          "name": "stdout",
          "text": [
            "Confusion Matrix: \n",
            " [[118971  10705]\n",
            " [ 18363  33241]]\n",
            "\n",
            "Accuracy : \n",
            " 83.96513680494263\n",
            "\n",
            "Report : \n",
            "               precision    recall  f1-score   support\n",
            "\n",
            "           0       0.87      0.92      0.89    129676\n",
            "           1       0.76      0.64      0.70     51604\n",
            "\n",
            "    accuracy                           0.84    181280\n",
            "   macro avg       0.81      0.78      0.79    181280\n",
            "weighted avg       0.84      0.84      0.84    181280\n",
            "\n"
          ]
        }
      ]
    },
    {
      "cell_type": "markdown",
      "source": [
        "## Model 3"
      ],
      "metadata": {
        "id": "8_WH5Fw9Afam"
      }
    },
    {
      "cell_type": "code",
      "source": [
        "model = BaggingRegressor(DecisionTreeRegressor(random_state=1))\n",
        "model.fit(X_train_ros, y_train_ros)\n",
        "pred5 = model.predict(X_test)\n",
        "\n",
        "model = AdaBoostRegressor()\n",
        "model.fit(X_train_ros, y_train_ros)\n",
        "pred6 = model.predict(X_test)\n",
        "\n",
        "model= GradientBoostingRegressor()\n",
        "model.fit(X_train_ros, y_train_ros)\n",
        "pred7 = model.predict(X_test)\n",
        "\n",
        "RandomForest = RandomForestClassifier()\n",
        "RandomForest.fit(X_train_ros, y_train_ros)\n",
        "pred8 = RandomForest.predict(X_test)\n",
        "\n",
        "model = lgb.LGBMClassifier()\n",
        "model.fit(X_train_ros, y_train_ros)\n",
        "pred9 = model.predict(X_test)\n",
        "\n",
        "modelpred = (pred5 + pred6 + pred7 + pred8 + pred9 )/6\n",
        "\n",
        "print(\"Confusion Matrix: \\n\", confusion_matrix(y_test, np.round(modelpred)))\n",
        "print(\"\\nAccuracy : \\n\", accuracy_score(y_test, np.round(modelpred))*100)\n",
        "print(\"\\nReport : \\n\", classification_report(y_test, np.round(modelpred)))"
      ],
      "metadata": {
        "colab": {
          "base_uri": "https://localhost:8080/"
        },
        "outputId": "35f128e4-4ae3-4b86-9210-043f8803fc0e",
        "id": "1ZwwXHN0Afam"
      },
      "execution_count": null,
      "outputs": [
        {
          "output_type": "stream",
          "name": "stdout",
          "text": [
            "Confusion Matrix: \n",
            " [[113333  16343]\n",
            " [ 13620  37984]]\n",
            "\n",
            "Accuracy : \n",
            " 83.47142541924096\n",
            "\n",
            "Report : \n",
            "               precision    recall  f1-score   support\n",
            "\n",
            "           0       0.89      0.87      0.88    129676\n",
            "           1       0.70      0.74      0.72     51604\n",
            "\n",
            "    accuracy                           0.83    181280\n",
            "   macro avg       0.80      0.81      0.80    181280\n",
            "weighted avg       0.84      0.83      0.84    181280\n",
            "\n"
          ]
        }
      ]
    },
    {
      "cell_type": "markdown",
      "source": [
        "# Random Oversampling with Feature Selection"
      ],
      "metadata": {
        "id": "cEF-Ca89JFpb"
      }
    },
    {
      "cell_type": "markdown",
      "source": [
        "##Model 1"
      ],
      "metadata": {
        "id": "00q8GD7mJNrJ"
      }
    },
    {
      "cell_type": "code",
      "source": [
        "DT = DecisionTreeClassifier(criterion='gini', max_depth=None)\n",
        "DT = DT.fit(X_train_ros_feat, y_train_ros)\n",
        "pred1 = DT.predict(X_test_ros_feat)\n",
        "\n",
        "rf = RandomForestRegressor(n_estimators = 500, random_state = 42)\n",
        "rf.fit(X_train_ros_feat, y_train_ros);\n",
        "pred2 = rf.predict(X_test_ros_feat)\n",
        "\n",
        "KNN = KNeighborsClassifier(n_neighbors=7)\n",
        "KNN.fit(X_train_ros_feat, y_train_ros)\n",
        "pred3=KNN.predict(X_test_ros_feat)\n",
        "\n",
        "finalpred = (pred1*4+ np.round(pred2)*4+pred3*3)/11\n",
        "\n",
        "print(\"Confusion Matrix: \\n\", confusion_matrix(y_test, np.round(finalpred)))\n",
        "print(\"\\nAccuracy : \\n\", accuracy_score(y_test, np.round(finalpred))*100)\n",
        "print(\"\\nReport : \\n\", classification_report(y_test, np.round(finalpred)))"
      ],
      "metadata": {
        "colab": {
          "base_uri": "https://localhost:8080/"
        },
        "outputId": "f6c8767b-7546-432d-de8d-3e0245add291",
        "id": "AXMwCEU_JNrK"
      },
      "execution_count": null,
      "outputs": [
        {
          "output_type": "stream",
          "name": "stdout",
          "text": [
            "Confusion Matrix: \n",
            " [[81570 48106]\n",
            " [10991 40613]]\n",
            "\n",
            "Accuracy : \n",
            " 67.4001544571933\n",
            "\n",
            "Report : \n",
            "               precision    recall  f1-score   support\n",
            "\n",
            "           0       0.88      0.63      0.73    129676\n",
            "           1       0.46      0.79      0.58     51604\n",
            "\n",
            "    accuracy                           0.67    181280\n",
            "   macro avg       0.67      0.71      0.66    181280\n",
            "weighted avg       0.76      0.67      0.69    181280\n",
            "\n"
          ]
        }
      ]
    },
    {
      "cell_type": "markdown",
      "source": [
        "## Model 2"
      ],
      "metadata": {
        "id": "lUyHBCOYJNrK"
      }
    },
    {
      "cell_type": "code",
      "source": [
        "DecisionTree = DecisionTreeClassifier()\n",
        "DecisionTree.fit(X_train_ros_feat, y_train_ros)\n",
        "DecisionTree_pred = DecisionTree.predict(X_test_ros_feat)\n",
        "\n",
        "KNN = KNeighborsClassifier(n_neighbors=3)\n",
        "KNN.fit(X_train_ros_feat, y_train_ros)\n",
        "KNN_pred = KNN.predict(X_test_ros_feat)\n",
        "\n",
        "MLPC = MLPClassifier(random_state=1, max_iter=300)\n",
        "MLPC.fit(X_train_ros_feat, y_train_ros)\n",
        "MLPC_pred = MLPC.predict(X_test_ros_feat)\n",
        "\n",
        "RandomForest = RandomForestClassifier()\n",
        "RandomForest.fit(X_train_ros_feat, y_train_ros)\n",
        "RandomForest_pred = RandomForest.predict(X_test_ros_feat)\n",
        "\n",
        "modelpred = (DecisionTree_pred + KNN_pred + RandomForest_pred )/4\n",
        "\n",
        "print(\"Confusion Matrix: \\n\", confusion_matrix(y_test, np.round(modelpred)))\n",
        "print(\"\\nAccuracy : \\n\", accuracy_score(y_test, np.round(modelpred))*100)\n",
        "print(\"\\nReport : \\n\", classification_report(y_test, np.round(modelpred)))"
      ],
      "metadata": {
        "colab": {
          "base_uri": "https://localhost:8080/"
        },
        "outputId": "aa5a610a-89a0-487d-e4dd-2393752dd9b8",
        "id": "qv9mu3dGJNrK"
      },
      "execution_count": null,
      "outputs": [
        {
          "output_type": "stream",
          "name": "stdout",
          "text": [
            "Confusion Matrix: \n",
            " [[116431  13245]\n",
            " [ 32719  18885]]\n",
            "\n",
            "Accuracy : \n",
            " 74.64474845542807\n",
            "\n",
            "Report : \n",
            "               precision    recall  f1-score   support\n",
            "\n",
            "           0       0.78      0.90      0.84    129676\n",
            "           1       0.59      0.37      0.45     51604\n",
            "\n",
            "    accuracy                           0.75    181280\n",
            "   macro avg       0.68      0.63      0.64    181280\n",
            "weighted avg       0.73      0.75      0.73    181280\n",
            "\n"
          ]
        }
      ]
    },
    {
      "cell_type": "markdown",
      "source": [
        "## Model 3"
      ],
      "metadata": {
        "id": "aktrLKq8JNrK"
      }
    },
    {
      "cell_type": "code",
      "source": [
        "model = BaggingRegressor(DecisionTreeRegressor(random_state=1))\n",
        "model.fit(X_train_ros_feat, y_train_ros)\n",
        "pred5 = model.predict(X_test_ros_feat)\n",
        "\n",
        "model = AdaBoostRegressor()\n",
        "model.fit(X_train_ros_feat, y_train_ros)\n",
        "pred6 = model.predict(X_test_ros_feat)\n",
        "\n",
        "model= GradientBoostingRegressor()\n",
        "model.fit(X_train_ros_feat, y_train_ros)\n",
        "pred7 = model.predict(X_test_ros_feat)\n",
        "\n",
        "RandomForest = RandomForestClassifier()\n",
        "RandomForest.fit(X_train_ros_feat, y_train_ros)\n",
        "pred8 = RandomForest.predict(X_test_ros_feat)\n",
        "\n",
        "model = lgb.LGBMClassifier()\n",
        "model.fit(X_train_ros_feat, y_train_ros)\n",
        "pred9 = model.predict(X_test_ros_feat)\n",
        "\n",
        "modelpred = (pred5 + pred6 + pred7 + pred8 + pred9 )/6\n",
        "\n",
        "print(\"Confusion Matrix: \\n\", confusion_matrix(y_test, np.round(modelpred)))\n",
        "print(\"\\nAccuracy : \\n\", accuracy_score(y_test, np.round(modelpred))*100)\n",
        "print(\"\\nReport : \\n\", classification_report(y_test, np.round(modelpred)))"
      ],
      "metadata": {
        "colab": {
          "base_uri": "https://localhost:8080/"
        },
        "outputId": "c4d76989-f369-49c5-eac8-bda183710f10",
        "id": "kEnWQl8xJNrL"
      },
      "execution_count": null,
      "outputs": [
        {
          "output_type": "stream",
          "name": "stdout",
          "text": [
            "Confusion Matrix: \n",
            " [[83088 46588]\n",
            " [11629 39975]]\n",
            "\n",
            "Accuracy : \n",
            " 67.88559135039718\n",
            "\n",
            "Report : \n",
            "               precision    recall  f1-score   support\n",
            "\n",
            "           0       0.88      0.64      0.74    129676\n",
            "           1       0.46      0.77      0.58     51604\n",
            "\n",
            "    accuracy                           0.68    181280\n",
            "   macro avg       0.67      0.71      0.66    181280\n",
            "weighted avg       0.76      0.68      0.69    181280\n",
            "\n"
          ]
        }
      ]
    },
    {
      "cell_type": "markdown",
      "source": [
        "# Random Undersampling"
      ],
      "metadata": {
        "id": "zj_N64n3Pvgg"
      }
    },
    {
      "cell_type": "markdown",
      "source": [
        "##Model 1"
      ],
      "metadata": {
        "id": "pg1SvkhJP4s_"
      }
    },
    {
      "cell_type": "code",
      "source": [
        "DT = DecisionTreeClassifier(criterion='gini', max_depth=None)\n",
        "DT = DT.fit(X_train_rus, y_train_rus)\n",
        "pred1 = DT.predict(X_test)\n",
        "\n",
        "rf = RandomForestRegressor(n_estimators = 500, random_state = 42)\n",
        "rf.fit(X_train_rus, y_train_rus);\n",
        "pred2 = rf.predict(X_test)\n",
        "\n",
        "KNN = KNeighborsClassifier(n_neighbors=7)\n",
        "KNN.fit(X_train_rus, y_train_rus)\n",
        "pred3=KNN.predict(X_test)\n",
        "\n",
        "finalpred = (pred1*4+ np.round(pred2)*4+pred3*3)/11\n",
        "print(\"Confusion Matrix: \\n\", confusion_matrix(y_test, np.round(finalpred)))\n",
        "print(\"\\nAccuracy : \\n\", accuracy_score(y_test, np.round(finalpred))*100)\n",
        "print(\"\\nReport : \\n\", classification_report(y_test, np.round(finalpred)))"
      ],
      "metadata": {
        "colab": {
          "base_uri": "https://localhost:8080/"
        },
        "outputId": "9e8a9fa1-2002-4559-8cfb-a33c1db6b7ef",
        "id": "_P2w6XkSP4s_"
      },
      "execution_count": null,
      "outputs": [
        {
          "output_type": "stream",
          "name": "stdout",
          "text": [
            "Confusion Matrix: \n",
            " [[81570 48106]\n",
            " [10991 40613]]\n",
            "\n",
            "Accuracy : \n",
            " 67.4001544571933\n",
            "\n",
            "Report : \n",
            "               precision    recall  f1-score   support\n",
            "\n",
            "           0       0.88      0.63      0.73    129676\n",
            "           1       0.46      0.79      0.58     51604\n",
            "\n",
            "    accuracy                           0.67    181280\n",
            "   macro avg       0.67      0.71      0.66    181280\n",
            "weighted avg       0.76      0.67      0.69    181280\n",
            "\n"
          ]
        }
      ]
    },
    {
      "cell_type": "markdown",
      "source": [
        "## Model 2"
      ],
      "metadata": {
        "id": "rb6z_4HrP4tA"
      }
    },
    {
      "cell_type": "code",
      "source": [
        "DecisionTree = DecisionTreeClassifier()\n",
        "DecisionTree.fit(X_train_rus, y_train_rus)\n",
        "DecisionTree_pred = DecisionTree.predict(X_test)\n",
        "\n",
        "KNN = KNeighborsClassifier(n_neighbors=3)\n",
        "KNN.fit(X_train_rus, y_train_rus)\n",
        "KNN_pred = KNN.predict(X_test)\n",
        "\n",
        "MLPC = MLPClassifier(random_state=1, max_iter=300)\n",
        "MLPC.fit(X_train_rus, y_train_rus)\n",
        "MLPC_pred = MLPC.predict(X_test)\n",
        "\n",
        "RandomForest = RandomForestClassifier()\n",
        "RandomForest.fit(X_train_rus, y_train_rus)\n",
        "RandomForest_pred = RandomForest.predict(X_test)\n",
        "\n",
        "finalPred = (DecisionTree_pred + KNN_pred + RandomForest_pred )/4\n",
        "\n",
        "print(\"Confusion Matrix: \\n\", confusion_matrix(y_test, np.round(finalPred)))\n",
        "print(\"\\nAccuracy : \\n\", accuracy_score(y_test, np.round(finalPred))*100)\n",
        "print(\"\\nReport : \\n\", classification_report(y_test, np.round(finalPred)))"
      ],
      "metadata": {
        "colab": {
          "base_uri": "https://localhost:8080/"
        },
        "outputId": "f6f0ef25-2c6e-4208-eb97-c450cf2a50e4",
        "id": "5hDDHP38P4tB"
      },
      "execution_count": null,
      "outputs": [
        {
          "output_type": "stream",
          "name": "stdout",
          "text": [
            "Confusion Matrix: \n",
            " [[123499   6177]\n",
            " [ 27559  24045]]\n",
            "\n",
            "Accuracy : \n",
            " 81.39011473962931\n",
            "\n",
            "Report : \n",
            "               precision    recall  f1-score   support\n",
            "\n",
            "           0       0.82      0.95      0.88    129676\n",
            "           1       0.80      0.47      0.59     51604\n",
            "\n",
            "    accuracy                           0.81    181280\n",
            "   macro avg       0.81      0.71      0.73    181280\n",
            "weighted avg       0.81      0.81      0.80    181280\n",
            "\n"
          ]
        }
      ]
    },
    {
      "cell_type": "markdown",
      "source": [
        "## Model 3"
      ],
      "metadata": {
        "id": "tIYGwqVeP4tB"
      }
    },
    {
      "cell_type": "code",
      "source": [
        "model= GradientBoostingRegressor()\n",
        "model.fit(X_train_rus, y_train_rus)\n",
        "pred7 = model.predict(X_test)\n",
        "\n",
        "model = BaggingRegressor(DecisionTreeRegressor(random_state=1))\n",
        "model.fit(X_train_rus, y_train_rus)\n",
        "pred5 = model.predict(X_test)\n",
        "\n",
        "model = AdaBoostRegressor()\n",
        "model.fit(X_train_rus, y_train_rus)\n",
        "pred6 = model.predict(X_test)\n",
        "\n",
        "RandomForest = RandomForestClassifier()\n",
        "RandomForest.fit(X_train_rus, y_train_rus)\n",
        "pred8 = RandomForest.predict(X_test)\n",
        "\n",
        "model = lgb.LGBMClassifier()\n",
        "model.fit(X_train_rus, y_train_rus)\n",
        "pred9 = model.predict(X_test)\n",
        "\n",
        "final = (pred5 + pred6 + pred7 + pred8 + pred9 )/6\n",
        "print(\"Confusion Matrix: \\n\", confusion_matrix(y_test, np.round(final)))\n",
        "print(\"\\nAccuracy : \\n\", accuracy_score(y_test, np.round(final))*100)\n",
        "print(\"\\nReport : \\n\", classification_report(y_test, np.round(final)))"
      ],
      "metadata": {
        "colab": {
          "base_uri": "https://localhost:8080/"
        },
        "outputId": "4366b61b-c742-4367-de5d-f73c769dc464",
        "id": "NCUFTtxdP4tC"
      },
      "execution_count": null,
      "outputs": [
        {
          "output_type": "stream",
          "name": "stdout",
          "text": [
            "Confusion Matrix: \n",
            " [[112728  16948]\n",
            " [ 13310  38294]]\n",
            "\n",
            "Accuracy : \n",
            " 83.30869373345101\n",
            "\n",
            "Report : \n",
            "               precision    recall  f1-score   support\n",
            "\n",
            "           0       0.89      0.87      0.88    129676\n",
            "           1       0.69      0.74      0.72     51604\n",
            "\n",
            "    accuracy                           0.83    181280\n",
            "   macro avg       0.79      0.81      0.80    181280\n",
            "weighted avg       0.84      0.83      0.83    181280\n",
            "\n"
          ]
        }
      ]
    },
    {
      "cell_type": "markdown",
      "source": [
        "# Random Undersampling with feature selection"
      ],
      "metadata": {
        "id": "WDH6T3OtXW4n"
      }
    },
    {
      "cell_type": "markdown",
      "source": [
        "##Model 1"
      ],
      "metadata": {
        "id": "K3depWjHXit1"
      }
    },
    {
      "cell_type": "code",
      "source": [
        "DT = DecisionTreeClassifier(criterion='gini', max_depth=None)\n",
        "DT = DT.fit(X_train_rus_feat, y_train_rus)\n",
        "pred1 = DT.predict(X_test_rus_feat)\n",
        "\n",
        "rf = RandomForestRegressor(n_estimators = 500, random_state = 42)\n",
        "rf.fit(X_train_rus_feat, y_train_rus);\n",
        "pred2 = rf.predict(X_test_rus_feat)\n",
        "\n",
        "KNN = KNeighborsClassifier(n_neighbors=7)\n",
        "KNN.fit(X_train_rus_feat, y_train_rus)\n",
        "pred3=KNN.predict(X_test_rus_feat)\n",
        "\n",
        "finalpred = (pred1*4+ np.round(pred2)*4+pred3*3)/11\n",
        "\n",
        "print(\"Confusion Matrix: \\n\", confusion_matrix(y_test, np.round(finalpred)))\n",
        "print(\"\\nAccuracy : \\n\", accuracy_score(y_test, np.round(finalpred))*100)\n",
        "print(\"\\nReport : \\n\", classification_report(y_test, np.round(finalpred)))"
      ],
      "metadata": {
        "colab": {
          "base_uri": "https://localhost:8080/"
        },
        "outputId": "5cc49233-4dc4-4b34-eda2-076330ac160f",
        "id": "XQWff9fPXit1"
      },
      "execution_count": null,
      "outputs": [
        {
          "output_type": "stream",
          "name": "stdout",
          "text": [
            "Confusion Matrix: \n",
            " [[83001 46675]\n",
            " [11627 39977]]\n",
            "\n",
            "Accuracy : \n",
            " 67.83870255957635\n",
            "\n",
            "Report : \n",
            "               precision    recall  f1-score   support\n",
            "\n",
            "           0       0.88      0.64      0.74    129676\n",
            "           1       0.46      0.77      0.58     51604\n",
            "\n",
            "    accuracy                           0.68    181280\n",
            "   macro avg       0.67      0.71      0.66    181280\n",
            "weighted avg       0.76      0.68      0.69    181280\n",
            "\n"
          ]
        }
      ]
    },
    {
      "cell_type": "markdown",
      "source": [
        "## Model 2"
      ],
      "metadata": {
        "id": "UsOrDFNtXit1"
      }
    },
    {
      "cell_type": "code",
      "source": [
        "DecisionTree = DecisionTreeClassifier()\n",
        "DecisionTree.fit(X_train_rus_feat, y_train_rus)\n",
        "DecisionTree_pred = DecisionTree.predict(X_test_rus_feat)\n",
        "\n",
        "KNN = KNeighborsClassifier(n_neighbors=3)\n",
        "KNN.fit(X_train_rus_feat, y_train_rus)\n",
        "KNN_pred = KNN.predict(X_test_rus_feat)\n",
        "\n",
        "MLPC = MLPClassifier(random_state=1, max_iter=300)\n",
        "MLPC.fit(X_train_rus_feat, y_train_rus)\n",
        "MLPC_pred = MLPC.predict(X_test_rus_feat)\n",
        "\n",
        "RandomForest = RandomForestClassifier()\n",
        "RandomForest.fit(X_train_rus_feat, y_train_rus)\n",
        "RandomForest_pred = RandomForest.predict(X_test_rus_feat)\n",
        "\n",
        "modelpred = (DecisionTree_pred + KNN_pred + RandomForest_pred )/4\n",
        "\n",
        "print(\"Confusion Matrix: \\n\", confusion_matrix(y_test, np.round(modelpred)))\n",
        "print(\"\\nAccuracy : \\n\", accuracy_score(y_test, np.round(modelpred))*100)\n",
        "print(\"\\nReport : \\n\", classification_report(y_test, np.round(modelpred)))"
      ],
      "metadata": {
        "colab": {
          "base_uri": "https://localhost:8080/"
        },
        "outputId": "19c19125-cba1-4fc3-eb6a-0f2048881046",
        "id": "qAQpBwf-Xit2"
      },
      "execution_count": null,
      "outputs": [
        {
          "output_type": "stream",
          "name": "stdout",
          "text": [
            "Confusion Matrix: \n",
            " [[128049   1627]\n",
            " [ 42869   8735]]\n",
            "\n",
            "Accuracy : \n",
            " 75.45454545454545\n",
            "\n",
            "Report : \n",
            "               precision    recall  f1-score   support\n",
            "\n",
            "           0       0.75      0.99      0.85    129676\n",
            "           1       0.84      0.17      0.28     51604\n",
            "\n",
            "    accuracy                           0.75    181280\n",
            "   macro avg       0.80      0.58      0.57    181280\n",
            "weighted avg       0.78      0.75      0.69    181280\n",
            "\n"
          ]
        }
      ]
    },
    {
      "cell_type": "markdown",
      "source": [
        "## Model 3"
      ],
      "metadata": {
        "id": "qnM6_pMhXit2"
      }
    },
    {
      "cell_type": "code",
      "source": [
        "model = BaggingRegressor(DecisionTreeRegressor(random_state=1))\n",
        "model.fit(X_train_rus_feat, y_train_rus)\n",
        "pred5 = model.predict(X_test_rus_feat)\n",
        "\n",
        "model = AdaBoostRegressor()\n",
        "model.fit(X_train_rus_feat, y_train_rus)\n",
        "pred6 = model.predict(X_test_rus_feat)\n",
        "\n",
        "model= GradientBoostingRegressor()\n",
        "model.fit(X_train_rus_feat, y_train_rus)\n",
        "pred7 = model.predict(X_test_rus_feat)\n",
        "\n",
        "RandomForest = RandomForestClassifier()\n",
        "RandomForest.fit(X_train_rus_feat, y_train_rus)\n",
        "pred8 = RandomForest.predict(X_test_rus_feat)\n",
        "\n",
        "model = lgb.LGBMClassifier()\n",
        "model.fit(X_train_rus_feat, y_train_rus)\n",
        "pred9 = model.predict(X_test_rus_feat)\n",
        "\n",
        "modelpred = (pred5 + pred6 + pred7 + pred8 + pred9 )/6\n",
        "\n",
        "print(\"Confusion Matrix: \\n\", confusion_matrix(y_test, np.round(modelpred)))\n",
        "print(\"\\nAccuracy : \\n\", accuracy_score(y_test, np.round(modelpred))*100)\n",
        "print(\"\\nReport : \\n\", classification_report(y_test, np.round(modelpred)))"
      ],
      "metadata": {
        "colab": {
          "base_uri": "https://localhost:8080/"
        },
        "outputId": "7934c32e-fb67-4c8d-b024-70aa4ccce967",
        "id": "Pn05HxGOXit3"
      },
      "execution_count": null,
      "outputs": [
        {
          "output_type": "stream",
          "name": "stdout",
          "text": [
            "Confusion Matrix: \n",
            " [[84000 45676]\n",
            " [12002 39602]]\n",
            "\n",
            "Accuracy : \n",
            " 68.18292144748456\n",
            "\n",
            "Report : \n",
            "               precision    recall  f1-score   support\n",
            "\n",
            "           0       0.87      0.65      0.74    129676\n",
            "           1       0.46      0.77      0.58     51604\n",
            "\n",
            "    accuracy                           0.68    181280\n",
            "   macro avg       0.67      0.71      0.66    181280\n",
            "weighted avg       0.76      0.68      0.70    181280\n",
            "\n"
          ]
        }
      ]
    }
  ]
}